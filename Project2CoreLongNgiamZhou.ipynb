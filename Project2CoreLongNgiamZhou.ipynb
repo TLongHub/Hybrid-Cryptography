{
 "cells": [
  {
   "cell_type": "code",
   "execution_count": 1,
   "id": "139830db",
   "metadata": {},
   "outputs": [],
   "source": [
    "import random, string, statistics, math, numpy as np, matplotlib.pyplot as plt, time"
   ]
  },
  {
   "cell_type": "code",
   "execution_count": 2,
   "id": "4b6c16e1",
   "metadata": {},
   "outputs": [
    {
     "name": "stderr",
     "output_type": "stream",
     "text": [
      "/opt/conda/lib/python3.9/site-packages/requests/__init__.py:102: RequestsDependencyWarning: urllib3 (1.26.9) or chardet (5.0.0)/charset_normalizer (2.0.12) doesn't match a supported version!\n",
      "  warnings.warn(\"urllib3 ({}) or chardet ({})/charset_normalizer ({}) doesn't match a supported \"\n"
     ]
    }
   ],
   "source": [
    "import hybrid, core_one as c1, core_three as c3"
   ]
  },
  {
   "cell_type": "markdown",
   "id": "424168b7",
   "metadata": {},
   "source": [
    "# Hybrid Cryptography - Mathematical Programming Project\n",
    "Owen Core, Toby Long, Jasmine Ngiam, Wendy Zhou"
   ]
  },
  {
   "cell_type": "markdown",
   "id": "5cc346ed",
   "metadata": {
    "jp-MarkdownHeadingCollapsed": true,
    "tags": []
   },
   "source": [
    "## *Contents:*\n",
    "\n",
    "\n",
    "### [0 - Introduction](#0)\n",
    "### [1 - Caesar and Vigenere ciphers (core 1)](#1)\n",
    "#### [1.1 - Single Caesar shifts](#1.1)\n",
    "#### [1.2 - Caesar Cipher](#1.2)\n",
    "#### [1.3 - Vigenere Cipher](#1.3)\n",
    "### [2 - Cracking the Caesar cipher with letter frequency analysis (core 2)](#2)\n",
    "#### [2.1 - The process](#2.1)\n",
    "#### [2.2 - Extracting text and finding frequencies](#2.2)\n",
    "#### [2.3 - Cracking the cipher](#2.3)\n",
    "#### [2.4 - Analysis of minimum ciphertext length for cracking Caesar cipher](#2.4)\n",
    "### [3 - Testing the performance of the smallest_factor function (core 3)](#3)\n",
    "#### [3.1 - The Assumption](#3.1)\n",
    "#### [3.2 - The Process](#3.2)\n",
    "#### [3.3 - Results file](#3.3)\n",
    "#### [3.4 - Conclusion](#3.4)\n",
    "### [4 - Hybrid system V1 (core 4)](#4)\n",
    "#### [4.1 - Hybrid process](#4.1)\n",
    "### [5 - Cracking the Vigenere cipher with Kasiski analysis (extension 8)](#5)\n",
    "#### [5.1 - The process](#5.1)\n",
    "#### [5.2 - Finding the key length](#5.2)\n",
    "#### [5.3 - Problems with finding key lengths](#5.3)\n",
    "#### [5.4 - Kasiski crack](#5.4)\n",
    "#### [5.5 - Limitations of Kasiski analysis](#5.5)\n",
    "#### [5.6 - Hybrid system V1 vulnerabilities](#5.6)\n",
    "### [6 - Bigram encoding to prevent Kasiski analysis (core 5)](#6)\n",
    "#### [6.1 - Motivation](#6.1)\n",
    "#### [6.2 - Allocating bigrams](#6.2)\n",
    "#### [6.3 - Encoding/Decoding](#6.3)\n",
    "#### [6.4 - Hybrid system V2](#6.4)\n",
    "#### [6.5 - Evaluation of improved hybrid system](#6.5)\n",
    "### [7 - Extra characters (extension 6)](#7)\n",
    "#### [7.1 - Motivation](#7.1)\n",
    "#### [7.2 - Function adjustments](#7.2)\n",
    "#### [7.3 - Hybrid system V3](#7.3)\n",
    "### [8 - Conclusion](#8)\n",
    "### [9 - Glossary](#9)\n",
    "### [10 - Bibliography](#10)"
   ]
  },
  {
   "cell_type": "markdown",
   "id": "1fc3dfb6",
   "metadata": {},
   "source": [
    "## Introduction <a id='0'></a>"
   ]
  },
  {
   "cell_type": "markdown",
   "id": "00661224",
   "metadata": {},
   "source": [
    "In this project we explore various techniques for enciphering and **encoding** texts, and **cracking** ciphered messages. We start by writing code to perform Caesar shifts which is used as the basis for our Caesar and Vigenere **ciphers**. Then we explore the RSA protocol and put together a first version of a **hybrid encryption** system. After testing and developing techniques to crack the ciphers, the weaknesses of the system are exposed. Hence, an attempt to patch the system by encoding our **plaintexts** before encryption is made. Finally, we improve our system by allowing it to handle more complicated texts with white space, digits and punctuation."
   ]
  },
  {
   "cell_type": "markdown",
   "id": "0c67a376",
   "metadata": {},
   "source": [
    "## 1 - Caesar and Vigenere ciphers <a id='1'></a>"
   ]
  },
  {
   "cell_type": "markdown",
   "id": "c21670a8",
   "metadata": {},
   "source": [
    "In this section we want to implement functions to perform Caesar and Vigenere encryption and decryption. A Caesar cipher takes each letter of your plaintext - your text or message before encryption - and shifts it $n$ spaces along the alphabet [1]. \n",
    "\n",
    "For example, (working with the lowercase alphabet) shifting 'a' by $n=3$ returns 'd' and shifting 'z' by $n=2$ gives 'b'."
   ]
  },
  {
   "cell_type": "markdown",
   "id": "9e3fabe8",
   "metadata": {},
   "source": [
    "### 1.1 - Single Caesar Shifts <a id='1.1'></a>"
   ]
  },
  {
   "cell_type": "markdown",
   "id": "26af3da4",
   "metadata": {},
   "source": [
    "First we start with two functions that perform a Caesar shift of a single letter and the inverse of that shift."
   ]
  },
  {
   "cell_type": "code",
   "execution_count": 3,
   "id": "2bdbd4fa",
   "metadata": {},
   "outputs": [],
   "source": [
    "def caesar_shift(letter, shift, alphabet): \n",
    "    \"\"\"Caesar shifts a single character.\n",
    "    OUTPUT: 'shifted_character'.\"\"\"\n",
    "    \n",
    "    new_index = (alphabet.find(letter) + shift) % len(alphabet)   \n",
    "    #finds the index of the character and shifts the index\n",
    "    new_letter = alphabet[new_index]   \n",
    "    #finds the character corresponding to the new index\n",
    "    \n",
    "    return new_letter   #returns the new letter\n",
    "\n",
    "    \n",
    "def caesar_invert_shift(letter, shift, alphabet): \n",
    "    \"\"\"Inverts Caesar shift of single character.\n",
    "    OUTPUT: 'inverted_shifted_character'.\"\"\"\n",
    "    \n",
    "    inverse_shift = -shift   #takes minus shift and applies to caesar_shift\n",
    "    new_letter = caesar_shift(letter, inverse_shift, alphabet)\n",
    "    \n",
    "    return new_letter   #returns new letter"
   ]
  },
  {
   "cell_type": "markdown",
   "id": "28b2a86b",
   "metadata": {},
   "source": [
    "##### Testing"
   ]
  },
  {
   "cell_type": "markdown",
   "id": "cdf46916",
   "metadata": {},
   "source": [
    "To check all seems to be working, we perform some quick tests:"
   ]
  },
  {
   "cell_type": "code",
   "execution_count": 4,
   "id": "0ba98646",
   "metadata": {},
   "outputs": [
    {
     "name": "stdout",
     "output_type": "stream",
     "text": [
      "A shift of 'a' by 22 gives 'w'\n",
      "A shift of 'a' by 23 gives 'x'\n",
      "A shift of 'a' by 24 gives 'y'\n",
      "A shift of 'a' by 25 gives 'z'\n",
      "A shift of 'a' by 26 gives 'A'\n",
      "A shift of 'a' by 27 gives 'B'\n",
      "A shift of 'a' by 28 gives 'C'\n",
      "A shift of 'a' by 29 gives 'D'\n"
     ]
    }
   ],
   "source": [
    "alph = string.ascii_letters   #import a string of upper and lower case alphabetical letters we wish to use\n",
    "\n",
    "for _ in range(100):\n",
    "    random_letter = alph[random.randint(0, 51)]\n",
    "    random_shift = random.randint(0, 100)\n",
    "    assert caesar_invert_shift(caesar_shift(random_letter, random_shift, alph), random_shift, alph) == random_letter\n",
    "    # Checking the invert shift of the shift takes you back to the original letter\n",
    "    \n",
    "for i in range(22, 30):\n",
    "    print(\"A shift of 'a' by \" + str(i) + \" gives '\" + str(caesar_shift('a', i, alph)) + \"'\")"
   ]
  },
  {
   "cell_type": "markdown",
   "id": "060e8175",
   "metadata": {},
   "source": [
    "We can now use this single letter shift to encipher a whole text."
   ]
  },
  {
   "cell_type": "markdown",
   "id": "4b70e51a",
   "metadata": {},
   "source": [
    "### 1.2 - Caesar Cipher <a id='1.2'></a>"
   ]
  },
  {
   "cell_type": "markdown",
   "id": "cf4228c6",
   "metadata": {},
   "source": [
    "The Caesar cipher applies the same Caesar shift to every letter of the plaintext. See the following two functions for encrypting and decrypting messages with the Caesar cipher."
   ]
  },
  {
   "cell_type": "code",
   "execution_count": 5,
   "id": "922b83e5",
   "metadata": {},
   "outputs": [],
   "source": [
    "def caesar_encipher(plaintext, shift, alphabet): \n",
    "    \"\"\"Caesar enciphers a whole message.\n",
    "    OUTPUT: 'enciphered_message'.\"\"\"\n",
    "    \n",
    "    enc_list = [caesar_shift(let, shift, alphabet) for let in plaintext]   \n",
    "    #creates list of caesar shifted letters\n",
    "    enc_string = ''.join(enc_list)   #turns list into a string\n",
    "\n",
    "    return enc_string\n",
    "\n",
    "\n",
    "def caesar_decipher(ciphertext, shift, alphabet): \n",
    "    \"\"\"Caesar deciphers a whole message.\n",
    "    OUTPUT: 'deciphered_message'.\"\"\"\n",
    "    \n",
    "    dec_list = [caesar_invert_shift(let, shift, alphabet) for let in ciphertext]   \n",
    "    #creates list of caesar shifted letters\n",
    "    dec_string = ''.join(dec_list)   #turns list into a string\n",
    "\n",
    "    return dec_string"
   ]
  },
  {
   "cell_type": "markdown",
   "id": "bacabe3a",
   "metadata": {},
   "source": [
    "##### Testing"
   ]
  },
  {
   "cell_type": "markdown",
   "id": "e464c5fc",
   "metadata": {},
   "source": [
    "Firstly, using some examples we test and print the results to demonstrate the process.\n",
    "\n",
    "Here we use some functions that will be explained later on in this document (url_to_text and extract_text). For now, we import them from a saved file (hybrid.py)."
   ]
  },
  {
   "cell_type": "code",
   "execution_count": 6,
   "id": "51a7fb9d",
   "metadata": {},
   "outputs": [
    {
     "name": "stdout",
     "output_type": "stream",
     "text": [
      "A shift of 'a' by 23 gives 'x'\n",
      "A shift of 'a' by 24 gives 'y'\n",
      "A shift of 'a' by 25 gives 'z'\n",
      "A shift of 'a' by 26 gives 'A'\n",
      "A shift of 'a' by 27 gives 'B'\n",
      "A shift of 'a' by 28 gives 'C'\n",
      "\n",
      " \n",
      "We can perform a test on a short message here.\n",
      " \n",
      "\tOur plaintext is:  SecretDemoMessage \n",
      "\tThe ciphertext is:  XjhwjyIjrtRjxxflj \n",
      "\tWith shift: 5 \n",
      "\tAnd the deciphered text is:  SecretDemoMessage\n",
      "\n",
      "\n",
      "We have 13824 characters of the book 'Emma'.\n",
      "We will encrypt and then decrypt the whole book to test our functions.\n",
      "\n",
      "\tThe first 50 characters of the book are as follows:\n",
      "\tEmmaWoodhousehandsomecleverandrichwithacomfortable...\n",
      "\n",
      "\tThe first 50 characters after encryption are: \n",
      "\tmUUIEWWLPWcaMPIVLaWUMKTMdMZIVLZQKPeQbPIKWUNWZbIJTM...\n",
      "\n",
      "\tThe first 50 characters after decryption are: \n",
      "\tEmmaWoodhousehandsomecleverandrichwithacomfortable...\n"
     ]
    }
   ],
   "source": [
    "# First we can use the same test from before on the single letter 'a' and we should get the same result...\n",
    "for i in range(23, 29):\n",
    "    print(\"A shift of 'a' by \" + str(i) + \" gives '\" + str(caesar_encipher('a', i, alph)) + \"'\")\n",
    "    # Which we do.\n",
    "\n",
    "    \n",
    "# Short message testing - quick check all is working\n",
    "plaintext = \"SecretDemoMessage\"\n",
    "ciphertext = caesar_encipher(plaintext, 5, alph)\n",
    "deciphered = caesar_decipher(ciphertext, 5, alph)\n",
    "\n",
    "print(\"\\n \\nWe can perform a test on a short message here.\\n \\n\\tOur plaintext is: \", plaintext,\n",
    "      \"\\n\\tThe ciphertext is: \", ciphertext, \"\\n\\tWith shift: 5 \\n\\tAnd the deciphered text is: \", deciphered)\n",
    "assert plaintext == deciphered   #check the decipher of the enciphered text gets us back to the original message\n",
    "\n",
    "\n",
    "# More short message testing - randomly generated plaintexts\n",
    "for _ in range(1000):\n",
    "    \n",
    "    plaintext_list = [alph[random.randint(0, 51)] for _ in range(random.randint(1, 100))]\n",
    "    plaintext = \"\"\n",
    "    for letter in plaintext_list:\n",
    "        plaintext += letter\n",
    "    \n",
    "    random_shift = random.randint(1, 51)\n",
    "    \n",
    "    ciphertext = caesar_encipher(plaintext, random_shift, alph)\n",
    "    deciphered = caesar_decipher(ciphertext,random_shift, alph)\n",
    "\n",
    "    assert plaintext == deciphered\n",
    "   \n",
    "   \n",
    "    \n",
    "# Long text testing - example\n",
    "Emma_raw_text = hybrid.url_to_text_utf8(\"https://raw.githubusercontent.com/cmh42/hc/main/message_emma.txt\")\n",
    "    #importing the raw text from url\n",
    "Emma_extracted = hybrid.extract_text(Emma_raw_text, alph)\n",
    "    #extracts only the characters from the text that are in alph\n",
    "    \n",
    "# Emma encryption/decryption     \n",
    "print(\"\\n\\nWe have \" + str(len(Emma_extracted)) +\n",
    "      \" characters of the book 'Emma'.\\nWe will encrypt and then decrypt the whole book to test our functions.\\n\")\n",
    "print(\"\\tThe first 50 characters of the book are as follows:\\n\\t\" + Emma_extracted[:50] + \"...\")\n",
    "\n",
    "#now we encrypt and decrypt the book\n",
    "random_shift = random.randint(1, 100)\n",
    "encrypted_Emma = caesar_encipher(Emma_extracted, random_shift, alph)\n",
    "decrypted_Emma = caesar_decipher(encrypted_Emma, random_shift, alph)\n",
    "\n",
    "#and present the results to check correctness\n",
    "print(\"\\n\\tThe first 50 characters after encryption are: \\n\\t\" + encrypted_Emma[:50] + \"...\")\n",
    "print(\"\\n\\tThe first 50 characters after decryption are: \\n\\t\" + decrypted_Emma[:50] + \"...\")\n",
    "assert Emma_extracted == decrypted_Emma   #shows we got back exactly the original text after encryption/decryption"
   ]
  },
  {
   "cell_type": "markdown",
   "id": "2ca502f2",
   "metadata": {},
   "source": [
    "The above examples all seemed to work with the **ciphertext** being unreadable and the **deciphered text** returning exactly back to the plaintext as required.\n",
    "\n",
    "The following code takes short randomly generated messages and checks they are returned to the plaintext after encryption/decryption and it then encrypts and decrypts all six of the example texts provided. "
   ]
  },
  {
   "cell_type": "code",
   "execution_count": 7,
   "id": "2360313c",
   "metadata": {},
   "outputs": [
    {
     "name": "stdout",
     "output_type": "stream",
     "text": [
      "Short message testing passed!\n",
      "\n",
      "Long text testing passed!\n"
     ]
    }
   ],
   "source": [
    "# Short message testing - randomly generated plaintexts\n",
    "for _ in range(1000):\n",
    "    \n",
    "    plaintext_list = [alph[random.randint(0, 51)] for _ in range(random.randint(1, 100))]\n",
    "    #generate random plaintexts\n",
    "    plaintext = \"\"\n",
    "    for letter in plaintext_list:\n",
    "        plaintext += letter\n",
    "    \n",
    "    random_shift = random.randint(1, 100)   #generates random shifts\n",
    "    \n",
    "    ciphertext = caesar_encipher(plaintext, random_shift, alph)   #enciphers\n",
    "    deciphered = caesar_decipher(ciphertext,random_shift, alph)   #deciphers\n",
    "\n",
    "    assert plaintext == deciphered\n",
    "\n",
    "print(\"Short message testing passed!\")\n",
    "    \n",
    "\n",
    "# Long text testing - thourough testing\n",
    "list_texts = [\"https://raw.githubusercontent.com/cmh42/hc/main/message_emma.txt\",\n",
    "              \"https://raw.githubusercontent.com/cmh42/hc/main/message_heart_of_darkness.txt\",\n",
    "              \"https://raw.githubusercontent.com/cmh42/hc/main/message_moby_dick.txt\",\n",
    "              \"https://raw.githubusercontent.com/cmh42/hc/main/message_tomorrows_tangle.txt\",\n",
    "              \"https://raw.githubusercontent.com/cmh42/hc/main/message_treasure_island.txt\",\n",
    "              \"https://raw.githubusercontent.com/cmh42/hc/main/message_wuthering_heights.txt\"]\n",
    "            #list of text url's    \n",
    "    \n",
    "# Test by enciphering and deciphering each of our long texts:\n",
    "for text in list_texts:\n",
    "    random_shift = random.randint(1, 100)\n",
    "    extracted_text = hybrid.extract_text(hybrid.url_to_text_utf8(text), alph)\n",
    "    ciphertext = caesar_encipher(extracted_text, random_shift, alph)\n",
    "    deciphered = caesar_decipher(ciphertext, random_shift, alph)\n",
    "    assert extracted_text == deciphered\n",
    "    #This may take a little bit of time...\n",
    " \n",
    "print(\"\\nLong text testing passed!\")"
   ]
  },
  {
   "cell_type": "markdown",
   "id": "5c8f038e",
   "metadata": {},
   "source": [
    "### 1.3 - Vigenere Cipher<a id='1.3'></a>"
   ]
  },
  {
   "cell_type": "markdown",
   "id": "e99e477d",
   "metadata": {},
   "source": [
    "The Vigenere cipher works similarly to the Caesar cipher. Again, each letter is Caesar shifted, however, the shift is different for each letter and depends on a Vigenere key. The key is another string of characters and is repeated so that it matches the length of the plaintext. For each letter of the message, we use the index of the corresponding letter of the key as the $n$ shift value. decryption works similarly, using the key to determine by which value each letter must be inversely shifted [2].\n",
    "\n",
    "Below are the functions to encipher/decipher using the Vigenere approach."
   ]
  },
  {
   "cell_type": "code",
   "execution_count": 8,
   "id": "dd175e32",
   "metadata": {},
   "outputs": [],
   "source": [
    "def vigenere_encipher(plaintext, alphabet, key_length = 5):\n",
    "    \"\"\"Vigenere enciphers a message string.\n",
    "    OUTPUT: ('enciphered message', 'key').\"\"\"\n",
    "    \n",
    "    # Want to generate a random key of length less than or equal to the message\n",
    "    #select the length of the random key... (optimal length is long as length of the message)\n",
    "    key = ''.join(random.choice(alphabet) for i in range(key_length))   \n",
    "    #generate the random key using characters from 'alphabet'\n",
    "    \n",
    "    ciphertext = \"\"   #create empty string\n",
    "    for i in range(len(plaintext)):\n",
    "        shift = alphabet.find(key[i % len(key)])   #find Caesar shift using key index\n",
    "        ciphertext += caesar_shift(plaintext[i], shift, alphabet)   #Caesar shift the letter \n",
    "    \n",
    "    return ciphertext, key\n",
    "\n",
    "\n",
    "def vigenere_decipher(ciphertext, key, alphabet):\n",
    "    \"\"\"Vigenere deciphers a message string.\n",
    "    OUTPUT: 'deciphered message'.\"\"\"\n",
    "    \n",
    "    plaintext = \"\"   #create empty string\n",
    "    for i in range(len(ciphertext)):\n",
    "        shift = alphabet.find(key[i % len(key)])   #find Caesar shift\n",
    "        plaintext += caesar_invert_shift(ciphertext[i], shift, alphabet)   #inverse the Caesar shift\n",
    "        \n",
    "    return plaintext"
   ]
  },
  {
   "cell_type": "markdown",
   "id": "f91c62fb",
   "metadata": {},
   "source": [
    "##### Testing"
   ]
  },
  {
   "cell_type": "markdown",
   "id": "5c0512a7",
   "metadata": {},
   "source": [
    "We apply similar tests as for Caesar cipher above."
   ]
  },
  {
   "cell_type": "code",
   "execution_count": 9,
   "id": "4382bc7c",
   "metadata": {},
   "outputs": [
    {
     "name": "stdout",
     "output_type": "stream",
     "text": [
      "We can perform a test on a short message here.\n",
      " \n",
      "\tOur plaintext is:  SecretDemoMessage \n",
      "\tThe ciphertext is:  hDeayIcgVIbDubuvD \n",
      "\tThe Vigenere key is:  pzcJu \n",
      "\tAnd the deciphered text is:  SecretDemoMessage\n",
      "\n",
      "\n",
      "We have 9637 characters of the book 'Mobey Dick'.\n",
      "We will encrypt and then decrypt the whole book to test our functions.\n",
      "\n",
      "\tThe first 50 characters of the book are as follows:\n",
      "\tCHAPTERLoomingsCallmeIshmaelSomeyearsagonevermindh...\n",
      "\n",
      "\tThe first 50 characters after encryption are: \n",
      "\twmTWcywevxgNGnBwFEsvYnLovUJEZxgJRljlXtnxhJOlAgNGkq...\n",
      "\n",
      "\tThe first 50 characters after decryption are: \n",
      "\tCHAPTERLoomingsCallmeIshmaelSomeyearsagonevermindh...\n"
     ]
    }
   ],
   "source": [
    "# Short message testing - quick check all is working\n",
    "plaintext = \"SecretDemoMessage\"\n",
    "ciphertext, key = vigenere_encipher(plaintext, alph)   #will generate a key of length 5 by default\n",
    "deciphered = vigenere_decipher(ciphertext, key, alph)\n",
    "\n",
    "print(\"We can perform a test on a short message here.\\n \\n\\tOur plaintext is: \", plaintext,\n",
    "      \"\\n\\tThe ciphertext is: \", ciphertext, \"\\n\\tThe Vigenere key is: \", key, \n",
    "      \"\\n\\tAnd the deciphered text is: \", deciphered)\n",
    "assert plaintext == deciphered   #check the decipher of the enciphered text gets us back to the original message\n",
    "\n",
    "\n",
    "# Long message testing - thourough testing\n",
    "Mobey_raw_text = hybrid.url_to_text_utf8(\"https://raw.githubusercontent.com/cmh42/hc/main/message_moby_dick.txt\")\n",
    "    #importing the raw text from url\n",
    "Mobey_extracted = hybrid.extract_text(Mobey_raw_text, alph)\n",
    "    #extracts only the characters from the text that are in alph\n",
    "\n",
    "# Mobey Dick encryption/decryption\n",
    "print(\"\\n\\nWe have \" + str(len(Mobey_extracted)) +\n",
    "      \" characters of the book 'Mobey Dick'.\\nWe will encrypt and then decrypt the whole book to test our functions.\\n\")\n",
    "print(\"\\tThe first 50 characters of the book are as follows:\\n\\t\" + Mobey_extracted[:50] + \"...\")\n",
    "\n",
    "#now we encrypt and decrypt the book\n",
    "encrypted_Mobey, key = vigenere_encipher(Mobey_extracted, alph)\n",
    "decrypted_Mobey = vigenere_decipher(encrypted_Mobey, key, alph)\n",
    "\n",
    "#and present the results to check correctness\n",
    "print(\"\\n\\tThe first 50 characters after encryption are: \\n\\t\" + encrypted_Mobey[:50] + \"...\")\n",
    "print(\"\\n\\tThe first 50 characters after decryption are: \\n\\t\" + decrypted_Mobey[:50] + \"...\")\n",
    "assert Mobey_extracted == decrypted_Mobey"
   ]
  },
  {
   "cell_type": "code",
   "execution_count": 10,
   "id": "f6cfe569-6f9d-47da-9989-7ca28d28ce4d",
   "metadata": {},
   "outputs": [
    {
     "name": "stdout",
     "output_type": "stream",
     "text": [
      "Short message testing passed!\n",
      "\n",
      "Long text testing passed!\n"
     ]
    }
   ],
   "source": [
    "# Short message testing - randomly generated plaintexts\n",
    "for _ in range(1000):\n",
    "    \n",
    "    plaintext_list = [alph[random.randint(0, 51)] for _ in range(random.randint(1, 100))]\n",
    "    plaintext = \"\"\n",
    "    for letter in plaintext_list:\n",
    "        plaintext += letter   #created random plaintext 'message' (string of random characters)\n",
    "    \n",
    "    key_length = random.randint(1, 100)   #test different key lengths\n",
    "    \n",
    "    ciphertext, key = vigenere_encipher(plaintext, alph, key_length)   #enciphered \n",
    "    deciphered = vigenere_decipher(ciphertext, key, alph)   #deciphered\n",
    "\n",
    "    assert plaintext == deciphered\n",
    "\n",
    "print(\"Short message testing passed!\")\n",
    "\n",
    "\n",
    "# Long text testing - using the long texts from before\n",
    "for text in list_texts:\n",
    "    key_length = random.randint(1, 200)\n",
    "    extracted_text = hybrid.extract_text(hybrid.url_to_text_utf8(text), alph)\n",
    "    ciphertext, key = vigenere_encipher(extracted_text, alph, key_length)\n",
    "    deciphered = vigenere_decipher(ciphertext, key, alph)\n",
    "    assert extracted_text == deciphered\n",
    "    #This may take a little bit of time...\n",
    " \n",
    "print(\"\\nLong text testing passed!\")"
   ]
  },
  {
   "cell_type": "markdown",
   "id": "a8bf58f3",
   "metadata": {},
   "source": [
    "We have now established functions that can reliably apply and decript the Caesar and Vigenere ciphers. The Vigenere is the first main building block of the hybrid system we aim to develope. We notice, however, that it is simply constructed from Caesar shifts and so in the next section we explore the security of the Caesar cipher. This has implications on the security of the Vigenere cipher, as we will see later on. "
   ]
  },
  {
   "cell_type": "markdown",
   "id": "b2a310ca",
   "metadata": {},
   "source": [
    "## 2 - Cracking the Caesar cipher with letter frequency analysis <a id='2'></a>"
   ]
  },
  {
   "cell_type": "markdown",
   "id": "59f322a5",
   "metadata": {},
   "source": [
    "### 2.1 - The process<a id='2.1'></a>"
   ]
  },
  {
   "cell_type": "markdown",
   "id": "1e9c447d",
   "metadata": {},
   "source": [
    "In this section we want to use the frequencies of each letter in the Enlgish language to find the $n$ shift of the Caesar cipher. To do this we find the frequencies of letters in the ciphertext and compare them to the known frequencies of letters in the English language. By doing this we can match up similar frequencies (the two highest, say) and use this to calculate the shift between those letters. Once we have the shift between two letters, the whole message can be deciphered using the caesar_decipher function [3]."
   ]
  },
  {
   "cell_type": "markdown",
   "id": "bd338294",
   "metadata": {},
   "source": [
    "### 2.2 - Extracting text and finding frequencies <a id='2.2'></a>"
   ]
  },
  {
   "cell_type": "markdown",
   "id": "5ed1f199",
   "metadata": {},
   "source": [
    "The function character_freq takes a text (be it an entire novel or a ciphered message) and creates a dictionary of each letter of the alphabet as the keys and the frequency of that letter in the text as the value. "
   ]
  },
  {
   "cell_type": "code",
   "execution_count": 11,
   "id": "7175ea83",
   "metadata": {},
   "outputs": [],
   "source": [
    "def url_to_text_utf8(url):\n",
    "    '''Given a url for a text that is 'utf-8' encoded\n",
    "    this function returns that text.'''\n",
    "    \n",
    "    response = requests.get(url)\n",
    "    response.encoding = 'utf-8-sig'\n",
    "    \n",
    "    return response.text\n",
    "\n",
    "\n",
    "def extract_text(text, alphabet):\n",
    "    \"\"\"Extracts the wanted characters from a text into a string.\n",
    "    OUTPUT: 'extracted text'.\"\"\"\n",
    "    \n",
    "    extracted = \"\"\n",
    "    for let in text:   #cycle through eac letter in text\n",
    "        if let in alphabet:   #check if its in alph\n",
    "            extracted += let   #if it is, add to the string\n",
    "    \n",
    "    return extracted\n",
    "\n",
    "\n",
    "def character_freq(text, alphabet, sort = False):\n",
    "    \"\"\"Takes a large text and characters of interest as input and returns\n",
    "    a sorted dictionary of frequencies of the characters of interest in that text.\n",
    "    OUTPUT: sorted dictionary of frequencies.\"\"\"\n",
    "    \n",
    "    text = extract_text(text, alphabet)\n",
    "    \n",
    "    freq = []\n",
    "    for let in alphabet:     #find the frequencies and append to a list\n",
    "        count_i = text.count(let)   #count how many times that letter appears in the text\n",
    "        freq.append(count_i/len(text))   #add to list\n",
    "    \n",
    "    freqdict = {}   \n",
    "    for i in range(len(alphabet)):   #add frequencies to a dictionary\n",
    "        freqdict.update({alphabet[i]: freq[i]})\n",
    "    \n",
    "    if sort == True:\n",
    "        return sorted(freqdict.items(), key=lambda x:x[1])\n",
    "    else:\n",
    "        return freqdict"
   ]
  },
  {
   "cell_type": "markdown",
   "id": "4741eae2",
   "metadata": {},
   "source": [
    "Now we need to import as many large texts as possible to create the most accurate dictionary of English language frequencies we can."
   ]
  },
  {
   "cell_type": "code",
   "execution_count": 12,
   "id": "8d1e1fde",
   "metadata": {},
   "outputs": [
    {
     "name": "stdout",
     "output_type": "stream",
     "text": [
      "Here we have the 3 most common letters in the English language:\n",
      " [('a', 0.08103237690967703), ('t', 0.08781010351801054), ('e', 0.12538293654766433)]\n"
     ]
    }
   ],
   "source": [
    "# recall, list_texts from earlier testing cells\n",
    "\n",
    "big_text = \"\"\n",
    "for text in list_texts:\n",
    "    big_text += hybrid.extract_text(hybrid.url_to_text_utf8(text), alph)\n",
    "    #extract the content and append all texts together\n",
    "    \n",
    "ENG_FREQ = character_freq(big_text, alph, sort = True)   #dictionaries of english language frequencies\n",
    "ENG_FREQ_UNSORT = character_freq(big_text, alph, sort = False)   #unsorted\n",
    "\n",
    "print(\"Here we have the 3 most common letters in the English language:\\n\", ENG_FREQ[-3:])"
   ]
  },
  {
   "cell_type": "markdown",
   "id": "d18b6b9f",
   "metadata": {},
   "source": [
    "Now we define a funtion to find the shift between two letters and then we can construct a function that will crack the Caesar cipher."
   ]
  },
  {
   "cell_type": "markdown",
   "id": "c1ee0b49",
   "metadata": {},
   "source": [
    "### 2.3 - Cracking the cipher<a id='2.3'></a>"
   ]
  },
  {
   "cell_type": "markdown",
   "id": "9ca8f85b",
   "metadata": {},
   "source": [
    "Below we have a function crack_caesar which uses the process of letter frequency analysis described above to find the shift and decipher the ciphertext. An option is implemented which returns three attempted deciphers using the top three most common letters in the ciphertext to calculate the potential Caesar shifts. This may be useful if reviewing the results by hand as it improves the chances of finding the right decipher."
   ]
  },
  {
   "cell_type": "code",
   "execution_count": 13,
   "id": "d45f96e9",
   "metadata": {},
   "outputs": [],
   "source": [
    "def find_shift(original_letter, new_letter, alphabet):\n",
    "    \"\"\"Finds the Ceasar shift given a letter from before and after shift.\n",
    "    OUTPUT: shift.\"\"\"\n",
    "    \n",
    "    shift = alphabet.index(new_letter) - alphabet.index(original_letter)   #difference of letter indexes\n",
    "    \n",
    "    return shift\n",
    "\n",
    "\n",
    "def crack_caesar(ciphertext, alphabet, three_attempts = False):\n",
    "    \"\"\"Takes a Caesar encoded message and cracks it using letter\n",
    "    frequency analysis without knowledge of the shift. Option to\n",
    "    print 1 attempted crack or 3.\n",
    "    OUTPUT: prints 1 or 3 attempted Caesar cracks.\"\"\"\n",
    "    \n",
    "    global ENG_FREQ   \n",
    "    cipher_freq = character_freq(ciphertext, alphabet, True)  #create dictionary for freq of letters in ciphertext\n",
    "    \n",
    "    length = len(alphabet)\n",
    "    \n",
    "    if three_attempts == True: \n",
    "        plaintext_tup = []\n",
    "        shifts = []\n",
    "        for i in range(3):\n",
    "            shift = find_shift(str((ENG_FREQ[length-1])[0]), str((cipher_freq[length-1-i])[0]), alphabet)   \n",
    "            #find the shift according to 3 most freq letters in ciphertext\n",
    "            plaintext = caesar_decipher(ciphertext, shift, alphabet)   #decipher using this shift\n",
    "            plaintext_tup.append(plaintext)\n",
    "            shifts.append(shift)\n",
    "        \n",
    "        return tuple(plaintext_tup), shifts\n",
    "    \n",
    "    else:\n",
    "        shift = find_shift(str((ENG_FREQ[length-1])[0]), str((cipher_freq[length-1])[0]), alphabet)\n",
    "        #compare the most freq characters from ciphertext and ENGLISH\n",
    "        plaintext = caesar_decipher(ciphertext, shift, alphabet)\n",
    "        \n",
    "        return plaintext, shift"
   ]
  },
  {
   "cell_type": "markdown",
   "id": "712a34c6",
   "metadata": {},
   "source": [
    "##### Testing"
   ]
  },
  {
   "cell_type": "code",
   "execution_count": 14,
   "id": "1f72d551",
   "metadata": {},
   "outputs": [
    {
     "name": "stdout",
     "output_type": "stream",
     "text": [
      "Long text testing complete!\n"
     ]
    }
   ],
   "source": [
    "# Test by enciphering each of our long texts and then using crack_caesar to decipher them:\n",
    "\n",
    "for text in list_texts:\n",
    "    random_shift = random.randint(1, 100)\n",
    "    extracted_text = hybrid.extract_text(hybrid.url_to_text_utf8(text), alph)\n",
    "    ciphertext = caesar_encipher(extracted_text, random_shift, alph)\n",
    "    cracked, _ = crack_caesar(ciphertext, alph, False)\n",
    "    assert extracted_text == cracked\n",
    "    #This may take a little bit of time...\n",
    "    \n",
    "print(\"Long text testing complete!\")"
   ]
  },
  {
   "cell_type": "markdown",
   "id": "f4360e7f-3980-4e8a-9e60-5d5cf16d47f8",
   "metadata": {},
   "source": [
    "Note that using randomly generated plaintext messages here wouldn't give the crack_caesar function realistic letter frequencies to compare to those known, and thus crack_caesar would not affectively decipher the messages."
   ]
  },
  {
   "cell_type": "markdown",
   "id": "613817fa-ae95-438b-aaf0-a8649f670fc8",
   "metadata": {},
   "source": [
    "### 2.4 - Analysis of minimum ciphertext length for cracking Caesar cipher<a id='2.4'></a>\n",
    "\n",
    "Here we perform some tests and analysis of our crack_caesar function to determine how long a ciphertext message must be to ensure the crack_caesar function works *most* of the time."
   ]
  },
  {
   "cell_type": "code",
   "execution_count": 15,
   "id": "723003ba",
   "metadata": {},
   "outputs": [],
   "source": [
    "# recall, list_texts from earlier testing cells\n",
    "def test_length_dependence(three_attempts = False):\n",
    "    \"\"\"This function tests how many texts out of 6 fail to be cracked\n",
    "    when different lengths of text are used (10 - 800 characters).\n",
    "    OUTPUT: [number of fails], [string lengths]\"\"\"\n",
    "    \n",
    "    string_lengths = [10*n for n in range(1, 81)]   #list of string lengths from 10 to 800\n",
    "    number_fails = []\n",
    "    for length in string_lengths:\n",
    "        count = 0   #count number of fails at each string length\n",
    "\n",
    "        for url in list_texts:   #cycle through texts\n",
    "            used_text = hybrid.extract_text(hybrid.url_to_text_utf8(url), alph)[:length]\n",
    "\n",
    "            random_shift = random.randint(1, 100)   #randomise shift each time\n",
    "\n",
    "            ciphertext = caesar_encipher(used_text, random_shift, alph)   #encipher\n",
    "            cracked, _ = crack_caesar(ciphertext, alph, three_attempts)   #crack (3 or 1 attempts)\n",
    "\n",
    "            if used_text not in cracked:   #check if deciphered correctly \n",
    "                count += 1\n",
    "        number_fails.append(count) \n",
    "        \n",
    "    return number_fails, string_lengths\n",
    "\n",
    "number_fails_three, string_lengths = test_length_dependence(three_attempts = True)\n",
    "number_fails, _ = test_length_dependence(three_attempts = False)"
   ]
  },
  {
   "cell_type": "code",
   "execution_count": 16,
   "id": "c52aa58a-0d1c-42b7-8fad-a818117f2c28",
   "metadata": {},
   "outputs": [
    {
     "data": {
      "image/png": "[encoded data removed]",
      "text/plain": [
       "<Figure size 936x576 with 1 Axes>"
      ]
     },
     "metadata": {
      "needs_background": "light"
     },
     "output_type": "display_data"
    }
   ],
   "source": [
    "plt.figure(figsize=(13, 8))\n",
    "\n",
    "plt.plot(string_lengths, number_fails, \"-.\", label = \"Single attempt crack\")\n",
    "plt.plot(string_lengths, number_fails_three, \"--\", label = \"Three attempts at crack\")\n",
    "plt.plot([500, 500], [-0.5, 6], label = \"String length 500\")\n",
    "plt.legend()\n",
    "\n",
    "plt.title(\"How string length affects likelihood of cracking the Caesar cipher\")\n",
    "plt.xlabel(\"String length\")\n",
    "plt.ylabel(\"Number of failed decryptions out of 6\")\n",
    "plt.show()"
   ]
  },
  {
   "cell_type": "markdown",
   "id": "d99b884a-0b43-457f-b124-ef2c94da8e6d",
   "metadata": {},
   "source": [
    "Looking at the graph, we can see that the crack_caesar function cracks every text of length over around 500 characters. \n",
    "\n",
    "Note that with only 6 different texts, this data may be fairly unreliable. Ideally we would have many more English texts to test against (or alternatively, we could take strings starting from different places in the example texts).\n",
    "\n",
    "In this section we have shown how the Caesar cipher can easily be broken to reveal the original plaintext. As we see in section 5, this function is used in cracking the Vigenere cipher too. At the end of this section, we did some analysis on what string lengths can be deciphered using out crack_caesar function. This is helpful in knowing roughly what length messages are safe using this cipher, and it translates to the security of the Vigenere cipher also, as we will see in due course. "
   ]
  },
  {
   "cell_type": "markdown",
   "id": "fda90a49",
   "metadata": {},
   "source": [
    "## 3 - Testing the performance of the smallest_factor function<a id='3'></a>"
   ]
  },
  {
   "cell_type": "markdown",
   "id": "434b477c-f160-4711-8a44-4248753f6c53",
   "metadata": {},
   "source": [
    "### 3.1 - Motivation <a id='3.1'></a>\n",
    "In section 4 we will use RSA encryption to add a further layer of security to the Vigenere cipher. Before we do this we test the difficulty of breaking the RSA method. RSA encryption works on the premise that it is very difficult to factorise a large number $N$, where $N = p*q$ for two prime numbers $p,q$ [4]."
   ]
  },
  {
   "cell_type": "markdown",
   "id": "37d78cc3-6bc1-4c84-ba98-3017b8d987f2",
   "metadata": {},
   "source": [
    "### 3.2 - The Process<a id='3.2'></a>\n",
    "To test this we will generate pairs of random prime numbers $p$ and $q$, each time increasing their bit length (starting from 16-bit) and compute $N = p*q$. Then, with $N$ as the input parameter, we run the smallest_factor function and measure the average computation time using the %timeit function. i.e.,  For $l = 16$, and $k = l, l+1, l+2,...$, we factorise $N = p*q$ for $k$-bit primes $p, q$ and record how long it took. After collecting some data, we can extrapolate it to predict how long it would take to factorise larger values of $N$ and decide when this technique of deciphering RSA encripted messages becomes unfeasable. "
   ]
  },
  {
   "cell_type": "markdown",
   "id": "0644914b-3ae4-4bd8-87ea-d9d31da116b9",
   "metadata": {},
   "source": [
    "### 3.3 - Results <a id='3.3'></a>\n",
    "Below are the algorithms to test the performance of smallest_factor function and to plot a graph to extrapolate the outcomes of the smallest_factor function. However, we attach the 'Core 3 results' file that shows the graph of the outcomes for both V1 and V2 of our testing as it does take a very long time to factorise N with large primes. \n",
    "\n",
    "Below is V1:"
   ]
  },
  {
   "cell_type": "code",
   "execution_count": 17,
   "id": "fb961e51-0fd0-47fa-83eb-101a0eda6cd4",
   "metadata": {},
   "outputs": [
    {
     "name": "stdout",
     "output_type": "stream",
     "text": [
      "5.5 ms ± 236 µs per loop (mean ± std. dev. of 7 runs, 100 loops each)\n",
      "15.7 ms ± 441 µs per loop (mean ± std. dev. of 7 runs, 100 loops each)\n",
      "18.5 ms ± 1.15 ms per loop (mean ± std. dev. of 7 runs, 10 loops each)\n",
      "34.9 ms ± 1.14 ms per loop (mean ± std. dev. of 7 runs, 10 loops each)\n",
      "70 ms ± 618 µs per loop (mean ± std. dev. of 7 runs, 10 loops each)\n",
      "142 ms ± 4.73 ms per loop (mean ± std. dev. of 7 runs, 10 loops each)\n",
      "431 ms ± 28.3 ms per loop (mean ± std. dev. of 7 runs, 1 loop each)\n",
      "587 ms ± 13.5 ms per loop (mean ± std. dev. of 7 runs, 1 loop each)\n",
      "1.16 s ± 130 ms per loop (mean ± std. dev. of 7 runs, 1 loop each)\n",
      "2.67 s ± 32.2 ms per loop (mean ± std. dev. of 7 runs, 1 loop each)\n",
      "4.84 s ± 70.6 ms per loop (mean ± std. dev. of 7 runs, 1 loop each)\n",
      "11.1 s ± 278 ms per loop (mean ± std. dev. of 7 runs, 1 loop each)\n"
     ]
    },
    {
     "data": {
      "image/png": "[encoded data removed]",
      "text/plain": [
       "<Figure size 720x576 with 1 Axes>"
      ]
     },
     "metadata": {
      "needs_background": "light"
     },
     "output_type": "display_data"
    },
    {
     "name": "stdout",
     "output_type": "stream",
     "text": [
      "bits_list: [16, 17, 18, 19, 20, 21, 22, 23, 24, 25, 26, 27]\n",
      "time_list: [9.159734285674944e-05, 0.0002621410920470398, 0.00030849416737466874, 0.0005809659604814701, 0.0011671258857157746, 0.002364142276180376, 0.007183519507054284, 0.009790070864116951, 0.01941324038087346, 0.04454321124025487, 0.08063134483804572, 0.18557402789287847]\n",
      "time taken: 3.423506506284078 minutes\n"
     ]
    }
   ],
   "source": [
    "# Generate primes p, q and input N = p*q to the smallest_function and show the average computation time on input\n",
    "# l = 16 bit primes and N = p*q for k = l, l+1, l+2,...\n",
    "\n",
    "l = 16 # -bit primes\n",
    "\n",
    "p = c3.random_prime(l)\n",
    "q = c3.random_prime(l)\n",
    "N = p*q\n",
    "\n",
    "# List to store the number of bits, i.e., k = l, l+1, l+2,... starting with l = 16.\n",
    "bit_primes = []\n",
    "# List to store the average computation time for smallest_factor(N).\n",
    "time_taken = []\n",
    "average_time_taken = 0\n",
    "\n",
    "# Start time to calculate the time elapsed while running the function repeatedly with increasing bit primes.\n",
    "# So that we can find out how long has it passed to factorise N and modify the while loop condition to preventing \n",
    "# it from runnning too long.\n",
    "start = time.time()\n",
    "elapsed = 0\n",
    "# Just an estimate with 150 seconds to start off with.\n",
    "# Can modify it to find out the average computation time for greater bit primes.\n",
    "while elapsed < 150:\n",
    "    # Use random_prime(l) function to generate a random prime number with l-bits.\n",
    "    p = c3.random_prime(l)\n",
    "    q = c3.random_prime(l)\n",
    "    N = p*q\n",
    "    # Use %timeit to measure the average computation time of the smallest_factor(N) function.\n",
    "    t = %timeit -o c3.smallest_factor(N)\n",
    "    bit_primes.append(l)\n",
    "    # Store the time taken as minutes.\n",
    "    average_time_taken = t.average/60\n",
    "    time_taken.append(average_time_taken) # t.average to store the average computation time in time_taken list.\n",
    "    elapsed = time.time() - start\n",
    "    l += 1\n",
    "\n",
    "# Plot two lines in a graph.\n",
    "plt.figure(figsize = (10,8))\n",
    "\n",
    "# The first plotted line is the results from the above smallest_factor function performance test.\n",
    "x_values = bit_primes\n",
    "y_values = time_taken\n",
    "plt.plot(x_values, y_values,'b-o')  \n",
    "\n",
    "# The second plotted line is an estimated function with extrapolation to find out when the smallest_factor function becomes \n",
    "# unfeasible. We extrapolated it until 35-bit primes, as it is unfeasible to factorise N using the smallest_factor function\n",
    "# starting at 35-bit primes.\n",
    "x_values_ext = [i for i in range(16, 38)]\n",
    "y_values_ext = [0.0000000010849*np.exp(0.7*x) for x in x_values_ext]\n",
    "plt.plot(x_values_ext, y_values_ext, 'r--o', label = 'Extrapolated function')\n",
    "plt.text(x_values_ext[-3], y_values_ext[-3], \"   {:.2f}, {:.2f}\".format(x_values_ext[-3], y_values_ext[-3]))\n",
    "plt.text(x_values_ext[-2], y_values_ext[-2], \"   {:.2f}, {:.2f}\".format(x_values_ext[-2], y_values_ext[-2]))\n",
    "plt.text(x_values_ext[-1], y_values_ext[-1], \"   {:.2f}, {:.2f}\".format(x_values_ext[-1], y_values_ext[-1]))\n",
    "\n",
    "plt.xlabel(\"-bit primes\")\n",
    "plt.ylabel(\"Minutes\")\n",
    "plt.title(\"Time taken to factorise N\")\n",
    "plt.legend()\n",
    "plt.show()\n",
    "\n",
    "print(\"bits_list: {}\".format(bit_primes))\n",
    "print(\"time_list: {}\".format(time_taken))\n",
    "print(\"time taken: {} minutes\".format(elapsed/60))"
   ]
  },
  {
   "cell_type": "markdown",
   "id": "5230709a-3b4c-46ce-ad68-7e9d8a8e2a42",
   "metadata": {},
   "source": [
    "The below cell is V2. It runs for larger primes (approx. 30 bit) and thus takes much longer to complete. \n",
    "\n",
    "Optional run."
   ]
  },
  {
   "cell_type": "raw",
   "id": "9321284a-861c-4dc2-8003-c7c32a3cfa10",
   "metadata": {},
   "source": [
    "# Generate primes p, q and input N = p*q to the smallest_function and show the average computation time on input\n",
    "# l = 16 bit primes and N = p*q for k = l, l+1, l+2,...\n",
    "\n",
    "l = 16 # -bit primes\n",
    "\n",
    "p = c3.random_prime(l)\n",
    "q = c3.random_prime(l)\n",
    "N = p*q\n",
    "\n",
    "# List to store the number of bit-prime, i.e., k = l, l+1, l+2,... starting with l = 16.\n",
    "bit_primes = []\n",
    "# List to store the average computation time for smallest_factor(N).\n",
    "time_taken = []\n",
    "average_time_taken = 0\n",
    "\n",
    "# Start time to calculate the time elapsed while running the function repeatedly with increasing bit primes.\n",
    "# So that we can find out how long has it passed to factorise N and modify the while loop condition to preventing \n",
    "# it from runnning too long.\n",
    "start = time.time()\n",
    "elapsed = 0\n",
    "# Let it runs for around 20 minutes.\n",
    "while elapsed < 15*60:\n",
    "    # Use random_prime(l) function to generate a random prime number with l-bits.\n",
    "    p = c3.random_prime(l)\n",
    "    q = c3.random_prime(l)\n",
    "    N = p*q\n",
    "    # Use %timeit to measure the average computation time of the smallest_factor(N) function.\n",
    "    t = %timeit -o c3.smallest_factor(N)\n",
    "    bit_primes.append(l)\n",
    "    # Store the time taken as minutes.\n",
    "    average_time_taken = t.average/60\n",
    "    time_taken.append(average_time_taken) # t.average to store the average computation time in time_taken list.\n",
    "    elapsed = time.time() - start\n",
    "    l += 1\n",
    "\n",
    "# Plot the graph.\n",
    "plt.figure(figsize = (10,8))\n",
    "\n",
    "# The plotted line is the results from the above smallest_factor function performance test.\n",
    "x_values = bit_primes\n",
    "y_values = time_taken\n",
    "plt.plot(x_values, y_values,'b-o')  \n",
    "\n",
    "plt.xlabel(\"-bit primes\")\n",
    "plt.ylabel(\"Minutes\")\n",
    "plt.title(\"Time taken to factorise N\")\n",
    "plt.legend()\n",
    "plt.show()\n",
    "\n",
    "print(\"bits_list: {}\".format(bit_primes))\n",
    "print(\"time_list: {}\".format(time_taken))\n",
    "print(\"time taken: {} minutes\".format(elapsed/60))"
   ]
  },
  {
   "cell_type": "markdown",
   "id": "10b5d418-48da-4765-b25d-7fa2fc6d1325",
   "metadata": {},
   "source": [
    "### 3.4 - Conclusion<a id='3.4'></a>\n",
    "\n",
    "According to the Core 3 Results File, we can conclude that:\n",
    "\n",
    "- From both the plotted line, we can see that the amount of time taken to factorise N grows exponentially as the bit primes increases. When p and q are 16-bit primes, the average computation time taken to factorise N is approximately 5 ms, when p and q are 24-bit primes, it takes around 1-2 seconds, at the end of the while loop, with p and q are 26-bit primes, it takes around 8-9 seconds to factorise N, hence, it is very hard to factorise N if only N is known and when p, q are large bit primes, i.e., 512-bit primes.\n",
    "\n",
    "- From the extrapolated line, we can say that it is starting to be unfeasible to factorise N using smallest_factor function when p and q are 35-bit primes, as it takes 47 minutes to factorise N and with 37-bit primes, it takes around 192 minutes to factorise N."
   ]
  },
  {
   "cell_type": "markdown",
   "id": "ad503557",
   "metadata": {},
   "source": [
    "## 4 - Hybrid system V1<a id='4'></a>\n",
    "\n",
    "### 4.1 - Hybrid process<a id='4.1'></a>"
   ]
  },
  {
   "cell_type": "markdown",
   "id": "df9071be",
   "metadata": {},
   "source": [
    "In this section we will develope a system of double encryption. We will use the Vigenere cipher on the plaintext message and RSA encryption on the Vigenere key after integer conversion. The ciphertext and RSA encrypted key can then be sent to its recipient who can use their private RSA key to decrypt the Vigenere key and decipher the ciphertext message.\n",
    "\n",
    "For this section we will assume 512-bit prime RSA encryption is used. Therefore, it is safe to use strings of length 60 for our RSA encryption. We may however, have Vigenere keys of length greater than 60, in which case we slice the key into lengths of at most 60 and encipher them individually. These enciphered slices are sent to the recipient as a tuple and after decryption and be pieced back together to realise the original key.\n",
    "\n",
    "The function RSA_key_generator1 is taken from lectures."
   ]
  },
  {
   "cell_type": "code",
   "execution_count": 18,
   "id": "2e733a6f",
   "metadata": {},
   "outputs": [],
   "source": [
    "def hybrid_send(plaintext, recipient_public, alphabet, key_length = 5):\n",
    "    \"\"\"Takes plaintext and RSA public keys and hybric encrypts a message using the core 4 algorithm.\n",
    "    OUTPUT: ('vig message', 'RSA encrypted vig keys').\"\"\"\n",
    "    \n",
    "    vig_message, vig_key = vigenere_encipher(plaintext, alphabet, key_length)\n",
    "    #encipher message and generate vig key\n",
    "    \n",
    "    no_slices = (len(vig_key)//60) + 1  #number of slices\n",
    "    keys = []\n",
    "    for i in range(no_slices):\n",
    "        keys.append(vig_key[i*60:(i+1)*60])   #take out slices of length 60\n",
    "    \n",
    "    for i in range(len(keys)):\n",
    "        keys[i] = c1.convert_to_integer(keys[i])   #convert each slice to integer form\n",
    "        keys[i] = pow(keys[i], recipient_public[1], recipient_public[0])   #RSA encrypt each slice \n",
    "        \n",
    "    keys = tuple(keys)   #convert to tuple\n",
    "    \n",
    "    return vig_message, keys\n",
    "\n",
    "\n",
    "def hybrid_recieve(ciphertext, keys_tuple, my_private, my_public, alphabet):\n",
    "    \"\"\"Takes ciphertext, keys tuple and RSA keys and deciphers according to core 4 method of hybrid encryption.\n",
    "    OUTPUT: 'plaintext'.\"\"\"\n",
    "    \n",
    "    keys = list(keys_tuple)\n",
    "    vig_key = \"\"\n",
    "    for i in range(len(keys)):\n",
    "        keys[i] = pow(keys[i], my_private, my_public[0])   #convert to integer\n",
    "        keys[i] = c1.convert_to_text(keys[i])   #convert to vig key\n",
    "        vig_key += keys[i]   #concatenate key back together\n",
    "        \n",
    "    plaintext = vigenere_decipher(ciphertext, vig_key, alphabet)\n",
    "    \n",
    "    return plaintext"
   ]
  },
  {
   "cell_type": "markdown",
   "id": "9245ed35",
   "metadata": {},
   "source": [
    "###### Testing"
   ]
  },
  {
   "cell_type": "code",
   "execution_count": 19,
   "id": "f29a32ef",
   "metadata": {},
   "outputs": [
    {
     "name": "stdout",
     "output_type": "stream",
     "text": [
      "The plaintext is:  SecretDemoMessage \n",
      "The ciphertext is:  LGeYOmfgTYFGuZKZG \n",
      "With encrypted key:  (7361616136583762864 ... \n",
      "And the deciphered text is:  SecretDemoMessage\n"
     ]
    }
   ],
   "source": [
    "# First we need to generate public and private RSA keys\n",
    "# We call the function from Mathematical Programming lectures\n",
    "recipient_public, my_private, fact = c1.RSA_key_generator1(512)\n",
    " #now we can test with a short message\n",
    "plaintext = \"SecretDemoMessage\"\n",
    "ciphertext, key = hybrid_send(plaintext, recipient_public, alph, key_length = 5)\n",
    "deciphered = hybrid_recieve(ciphertext, key, my_private, recipient_public, alph)\n",
    "\n",
    "print(\"The plaintext is: \", plaintext, \"\\nThe ciphertext is: \", ciphertext, \n",
    "      \"\\nWith encrypted key: \", str(key)[:20],\"...\", \"\\nAnd the deciphered text is: \", deciphered)\n",
    "\n",
    "assert plaintext == deciphered"
   ]
  },
  {
   "cell_type": "code",
   "execution_count": 20,
   "id": "02fc5b96-f454-4be8-acf6-8fc37f66d9df",
   "metadata": {},
   "outputs": [
    {
     "name": "stdout",
     "output_type": "stream",
     "text": [
      "Short message testing passed!\n",
      "Long text testing passed!\n"
     ]
    }
   ],
   "source": [
    "# Short message testing - randomly generated plaintexts length 1 - 100\n",
    "    #testing messages that will have at most two key sections...\n",
    "for _ in range(20):\n",
    "    \n",
    "    recipient_public, my_private, fact = c1.RSA_key_generator1(512)\n",
    "    \n",
    "    plaintext_list = [alph[random.randint(0, 51)] for m in range(random.randint(1, 100))]\n",
    "    plaintext = \"\"\n",
    "    for letter in plaintext_list:\n",
    "        plaintext += letter   #created random plaintext 'message' (string of random characters)\n",
    "    \n",
    "    key_length = random.randint(1, 100)   #test different key lengths\n",
    "    \n",
    "    ciphertext, key = hybrid_send(plaintext, recipient_public, alph, key_length)   #enciphered \n",
    "    deciphered = hybrid_recieve(ciphertext, key, my_private, recipient_public, alph)   #deciphered\n",
    "\n",
    "    assert plaintext == deciphered\n",
    "\n",
    "print(\"Short message testing passed!\")\n",
    "   \n",
    "    \n",
    "# Long message testing... \n",
    "for text in list_texts:\n",
    "    \n",
    "    recipient_public, my_private, fact = c1.RSA_key_generator1(512)   #generate new RSA keys for each text\n",
    "    extracted_text = hybrid.extract_text(hybrid.url_to_text_utf8(text), alph)   #extract text\n",
    "    key_length = random.randint(1, 500)   #random key length\n",
    "    \n",
    "    ciphertext, key = hybrid_send(extracted_text, recipient_public, alph, key_length)   #enciphered \n",
    "    deciphered = hybrid_recieve(ciphertext, key, my_private, recipient_public, alph)   #deciphered\n",
    "    assert extracted_text == deciphered\n",
    "    #This takes a little bit of time...\n",
    "    \n",
    "print(\"Long text testing passed!\")"
   ]
  },
  {
   "cell_type": "markdown",
   "id": "37263d32",
   "metadata": {},
   "source": [
    "The functions hybrid_send and hybrid_recieve seem to be working well and have passed all the tests. We have formed the second layer of encryption in our hybrid system. This has hugely increased the security of the messages sent using our functions. However, there are still weaknesses in the system. In the next section, we will develope functions to perform a Kasiski attack on Vigenere enciphered messages to demonstrate this."
   ]
  },
  {
   "cell_type": "markdown",
   "id": "fbeddda7",
   "metadata": {},
   "source": [
    "## 5 - Cracking the Vigenere cipher with Kasiski analysis<a id='5'></a>"
   ]
  },
  {
   "cell_type": "markdown",
   "id": "b99801b5-4eca-4242-9161-a270b26a998b",
   "metadata": {},
   "source": [
    "### 5.1 - The process<a id='5.1'></a>"
   ]
  },
  {
   "cell_type": "markdown",
   "id": "2e4ebe97",
   "metadata": {},
   "source": [
    "The Kasiski approach to cracking the Vigenere cipher is to first find the length of the Vigenere key, and then use letter frequency analysis to crack the message after dividing it into parts according to the length of the key. Let $n$ be the length of the key. Once we know $n$, we can split the enciphered message into groups of characters that are all Caesar shifted by the same value (corresponding to that repeated key character). The first group consists of the $1st, (1+n)th, (1+2n)th, (1+3n)th, ...$ characters of the ciphertext; the second consists of the $2nd, (2+n)th, (2+2n)th, (2+3n)th,...$ characters of the ciphertext and so on. Provided the message is sufficiently long enough, we can then use our function crack_ceasar on each of these groups and then piece the groups back together to retreive the plaintext [5]. "
   ]
  },
  {
   "cell_type": "markdown",
   "id": "8e281a74",
   "metadata": {},
   "source": [
    "### 5.2 - Finding the key length<a id='5.2'></a>"
   ]
  },
  {
   "cell_type": "markdown",
   "id": "ed9e9a37",
   "metadata": {},
   "source": [
    "The first step to find the key length is to track the repeated bigrams in the ciphertext and note at what positions the repetitions occur. After that, we take the differences of the repetition locations in the ciphertext and find all the factors of these numbers. The most common factor is the one *most likely* to be the key length [5].\n",
    "\n",
    "Here are two functions which track repeated bigrams in a ciphertext and finds the factors of their locations. The final function implements the first two and selects the most likely key length."
   ]
  },
  {
   "cell_type": "code",
   "execution_count": 21,
   "id": "de24397f",
   "metadata": {},
   "outputs": [],
   "source": [
    "def kasiski_bigrams(ciphertext):\n",
    "    \"\"\"Takes a ciphertext and makes a dictionary of each bigram\n",
    "    in the ciphertext and at what points the bigram appears.\n",
    "    OUTPUT: dictionary.\"\"\"\n",
    "    \n",
    "    bigram_dict = {}\n",
    "    for i in range(len(ciphertext)-1):\n",
    "\n",
    "        index = ciphertext.find(ciphertext[i:i+2])   #find first time bigram occurs\n",
    "\n",
    "        if index == i:   #if this first time is also this occasion, then it has not appeared yet\n",
    "            bigram_dict[(ciphertext[i:i+2])] = str(i) + \",\"   \n",
    "            #so this is the first occurance and it must be added to the dictionary\n",
    "\n",
    "        else:   #if not equal, it has occured before and so we record the index\n",
    "            bigram_dict[str(ciphertext[i:i+2])] += str(i) + \",\"\n",
    "    \n",
    "    return bigram_dict\n",
    "\n",
    "\n",
    "# We now use the kasiski_bigrams function in the kasiski_factors function\n",
    "def kasiski_factors(ciphertext):\n",
    "    \"\"\"Takes the Vigenere ciphertext and finds the factors of the difference of the\n",
    "    locations of repeated bigrams in the ciphertext and returns them in a dictionary.\n",
    "    OUTPUT: dictionary.\"\"\"\n",
    "    \n",
    "    bigram_dict = kasiski_bigrams(ciphertext)   #make the bigram dict to find where the bigrams appear\n",
    "    \n",
    "    repeated_bigrams = \"\"\n",
    "    for i in range(len(ciphertext)-1):   #shuffle through all bigrams in ciphertext\n",
    "        bigram = ciphertext[i:i+2]   #assign name for ease of use\n",
    "        \n",
    "        if len(bigram_dict[bigram].split(\",\")) > 2 and (bigram + \",\") not in repeated_bigrams:  \n",
    "            #find bigrams that have been repeated\n",
    "            repeated_bigrams += bigram + \",\"   #add to the list of interest\n",
    "\n",
    "    factors = {}   #make a dictionary of bigrams and the factors of the distances between their repetitions\n",
    "    for i in range(len(repeated_bigrams)//3):   #select each bigram\n",
    "        bigram = repeated_bigrams[i*3: i*3+2]\n",
    "        nums = bigram_dict[bigram].split(\",\")   #extract the locations of the repetitions\n",
    "        difference = int(nums[1]) - int(nums[0])   #find the difference between the locations of the first two\n",
    "\n",
    "        string_factors = []   #empty string to be filled with the factors\n",
    "        for i in range(1, difference + 1):   #find the factors of the difference\n",
    "            if difference % i == 0:\n",
    "                string_factors.append(i)   #append\n",
    "        \n",
    "        factors[bigram] = string_factors   #add to the dictionary\n",
    "        \n",
    "    return factors\n",
    "\n",
    "\n",
    "# And again the kasiski_factors function is used here in the find_key_length function\n",
    "def find_key_length(ciphertext):\n",
    "    \"\"\"Uses Kasiski technique to find the likely length of the Vigenere key.\n",
    "    OUTPUT: 'key_length'.\"\"\"\n",
    "    \n",
    "    factors = kasiski_factors(ciphertext)\n",
    "    all_factors = list(factors.values())   #turn values of dictionary into one list\n",
    "    all_factors = [num for sublist in all_factors for num in sublist]   #flatten list into single list\n",
    "    all_factors = [i for i in all_factors if i != 1]   #1 a factor of everything and if the key \n",
    "                                    #length was 1 it would be a simple caesar shift so we can exclude it\n",
    "        \n",
    "    key_length = statistics.multimode(all_factors)  #returns all equally most common factors \n",
    "\n",
    "    return key_length"
   ]
  },
  {
   "cell_type": "markdown",
   "id": "a6e446e1-c8ed-4f4c-9c89-3cc7580f9fff",
   "metadata": {},
   "source": [
    "##### Testing"
   ]
  },
  {
   "cell_type": "markdown",
   "id": "c8b91a64",
   "metadata": {},
   "source": [
    "We run a quick test here to ensure find_key_length seems to be working."
   ]
  },
  {
   "cell_type": "code",
   "execution_count": 22,
   "id": "5b518164",
   "metadata": {},
   "outputs": [
    {
     "name": "stdout",
     "output_type": "stream",
     "text": [
      "The calculated key length is: [5] \n",
      "The actual key length is: 5\n"
     ]
    }
   ],
   "source": [
    "plaintext = \"Rockfax Description A long and popular trip that has masses of interesting climbing punctuated with good belay ledges. The climbing is fairly tough in places but these sections are well-protected. Begin at a short wall just right of the thin crack at the start of Gronk.\"\n",
    "plaintext = extract_text(plaintext, alph)\n",
    "ciphertext, key = vigenere_encipher(plaintext, alph, 5)\n",
    "length = find_key_length(ciphertext)\n",
    "print(\"The calculated key length is:\", length, \"\\nThe actual key length is: 5\")"
   ]
  },
  {
   "cell_type": "markdown",
   "id": "81a58bd1-5585-4e93-8e97-e7036ae9d773",
   "metadata": {},
   "source": [
    "In this case we get the correct result.\n",
    "\n",
    "### 5.3 - Problems with finding key lengths<a id='5.3'></a>"
   ]
  },
  {
   "cell_type": "markdown",
   "id": "3b3e69f1",
   "metadata": {},
   "source": [
    "Note that if the key length were not a prime number, we would expect to get a factor of the actual key length as output from find_key_length. This is because for every time we get the key length as a factor, we also get the factors of the key length itself as factors - meaning the smaller factors will always appear just as much and usually more. We also expect to see multiples of the key length appearing, however, this will be less common and so shouldn't be a problem.\n",
    "\n",
    "We demonstrate this below."
   ]
  },
  {
   "cell_type": "code",
   "execution_count": 23,
   "id": "0297a111",
   "metadata": {},
   "outputs": [
    {
     "name": "stdout",
     "output_type": "stream",
     "text": [
      "The ciphertext is: lzaxLWtVyDaEOlpAIyyyUjcsHonBVqhsLEpvVpdsNsYFSWoKyDmsOjpwLpqGOjcuFtkoOjcHOyaGaWpwxHgGNckGxmcyGuhwxrcFzdauFtkoOjcAMqYvXhuLIFeuOjlDuncFHqpLBpqrYaYLCzlFGnaOywjCXkpwwEcqhacAHlrnYdkJNHYyRfqKNCgtNpkxNscGNejuLlaxGppzyDrnXpkxaCmAQ \n",
      "\n",
      "The dictionary of bigrams is: {'ax': [1, 2, 4, 5, 8, 10, 20, 25, 40, 50, 100, 200], 'yD': [1, 2, 4, 5, 8, 10, 20, 40], 'yy': [1], 'jc': [1, 2, 4, 5, 8, 10, 20, 40], 'qh': [1, 2, 67, 134], 'Ns': [1, 2, 4, 8, 19, 38, 76, 152], 'Oj': [1, 2, 4, 8], 'pw': [1, 2, 3, 4, 6, 8, 12, 24], 'pq': [1, 2, 4, 5, 8, 10, 16, 20, 40, 80], 'uF': [1, 2, 4, 5, 8, 10, 20, 40], 'Ft': [1, 2, 4, 5, 8, 10, 20, 40], 'tk': [1, 2, 4, 5, 8, 10, 20, 40], 'ko': [1, 2, 4, 5, 8, 10, 20, 40], 'oO': [1, 2, 4, 5, 8, 10, 20, 40], 'Oy': [1, 79], 'wx': [1, 2, 4, 8, 16], 'GN': [1, 2, 4, 7, 8, 14, 16, 28, 56, 112], 'cF': [1, 2, 4, 8, 16, 32], 'cA': [1, 2, 4, 7, 8, 14, 28, 56], 'uL': [1, 3, 9, 27, 81], 'rn': [1, 2, 4, 5, 8, 10, 20, 40], 'pk': [1, 2, 3, 4, 6, 8, 12, 24], 'kx': [1, 2, 3, 4, 6, 8, 12, 24]}\n",
      "\n",
      "The estimated key length is:  [2] \n",
      "However, the actual key length was 8.\n",
      "\n"
     ]
    }
   ],
   "source": [
    "ciphertext, key = vigenere_encipher(plaintext, alph, 8)\n",
    "length = find_key_length(ciphertext)\n",
    "print(\"The ciphertext is:\", ciphertext, \"\\n\")\n",
    "print(\"The dictionary of bigrams is:\", kasiski_factors(ciphertext))\n",
    "print(\"\\nThe estimated key length is: \", length, \"\\nHowever, the actual key length was 8.\\n\")"
   ]
  },
  {
   "cell_type": "markdown",
   "id": "0ba7dd8d",
   "metadata": {},
   "source": [
    "As you can see, everytime we have 8 appearing we certainly have 2 appearing also. However, we have at least reduced the number of possible key lengths to try. \n",
    "\n",
    "Below is a revised version of the find_key_length function which now returns an ordered list of the most likely key lengths. This will be useful as we can try the list of lengths until we crack the cipher, starting with the most likely to work."
   ]
  },
  {
   "cell_type": "code",
   "execution_count": 24,
   "id": "be276e86",
   "metadata": {},
   "outputs": [],
   "source": [
    "def find_key_length_v2(ciphertext):\n",
    "    \"\"\"Uses Kasiski technique to find the possible lengths of the\n",
    "    Vigenere key as a list from most likely to least.\n",
    "    OUTPUT: [key_lengths].\"\"\"\n",
    "    \n",
    "    factors = kasiski_factors(ciphertext)\n",
    "    all_factors = list(factors.values())   #turn values of dictionary into one list\n",
    "    all_factors = [num for sublist in all_factors for num in sublist]   #flatten list into single list\n",
    "    all_factors = [i for i in all_factors if i != 1]   #1 a factor of everything and if the key \n",
    "                                    #length was 1 it would be a simple caesar shift so we can exclude it\n",
    "    fact_freq = {}\n",
    "    for i in all_factors:\n",
    "        if i not in fact_freq:\n",
    "            fact_freq[i] = 1\n",
    "        else:\n",
    "            fact_freq[i] += 1\n",
    "\n",
    "    ordered_key_lengths = sorted(fact_freq.items(), key=lambda x:x[1], reverse = True)   #order the dictionary\n",
    "    lengths = []\n",
    "    for length in ordered_key_lengths:\n",
    "        lengths.append(length[0])   #take just the lengths (not frequencies) now in order of most frequent\n",
    "    \n",
    "    return lengths"
   ]
  },
  {
   "cell_type": "markdown",
   "id": "718108b7",
   "metadata": {},
   "source": [
    "Unfortunately, there is no clear way to more accurately determine the key length using the Kasiski approach. So we instead need to use trial and error to crack the cipher.\n",
    "\n",
    "#### Aside: Best key length to use for security\n",
    "Here we quickly test how using a key length of many distinct prime numbers multiplied together is the best option for security. "
   ]
  },
  {
   "cell_type": "code",
   "execution_count": 25,
   "id": "a95a87ae",
   "metadata": {},
   "outputs": [
    {
     "name": "stdout",
     "output_type": "stream",
     "text": [
      "\n",
      "The Vigenere key: utrQrkeBnUlwjSiHMXRXVWbRUo \n",
      "The key length: 26\n",
      "Potential lengths in order: [2, 13, 26, 4, 3, 6, 52]\n",
      "\n",
      "The Vigenere key: tuCApIohgWkyeDKUZXUsSqsPLfX \n",
      "The key length: 27\n",
      "Potential lengths in order: [3, 2, 9, 27, 6, 4, 18]\n",
      "\n",
      "The Vigenere key: bcwcZFxdELCWXWyJXVnXYPoyhfoa \n",
      "The key length: 28\n",
      "Potential lengths in order: [2, 4, 7, 14, 28, 3, 8]\n",
      "\n",
      "The Vigenere key: sJOyqGOYphuZuXfnYJRJvHcgAuArh \n",
      "The key length: 29\n",
      "Potential lengths in order: [2, 29, 3, 4, 5, 58, 6]\n",
      "\n",
      "The Vigenere key: WQVSdMRWCVOrgldAquMpmbMXGMBhXI \n",
      "The key length: 30\n",
      "Potential lengths in order: [2, 3, 5, 6, 10, 15, 30]\n",
      "\n",
      "The Vigenere key: GpeCEvbuClvnroDzUPeWuSiCAOGOrcO \n",
      "The key length: 31\n",
      "Potential lengths in order: [2, 31, 3, 4, 5, 62, 6]\n",
      "\n",
      "The Vigenere key: EipBlnHJZHETKWhuIXrKBOpjvPGnRODz \n",
      "The key length: 32\n",
      "Potential lengths in order: [2, 4, 8, 16, 32, 3, 6]\n",
      "\n",
      "The Vigenere key: eKiBmIcMUljMzOZYdravXbInqRfDgrRcT \n",
      "The key length: 33\n",
      "Potential lengths in order: [3, 2, 11, 33, 6, 4, 22]\n",
      "\n",
      "The Vigenere key: amjfZPDEQDeEWkXsBKxmQNqqHHJYwYOgko \n",
      "The key length: 34\n",
      "Potential lengths in order: [2, 17, 34, 3, 4, 6, 5]\n"
     ]
    }
   ],
   "source": [
    "for length in range(26, 35):\n",
    "    ciphertext, key = vigenere_encipher(big_text, alph, length)\n",
    "    print(\"\\nThe Vigenere key:\", key, \"\\nThe key length:\", len(key))\n",
    "    lengths = find_key_length_v2(ciphertext)\n",
    "    print(\"Potential lengths in order:\", lengths[:7])"
   ]
  },
  {
   "cell_type": "markdown",
   "id": "9c88259a",
   "metadata": {},
   "source": [
    "Above you can see that the key length $2*3*5=30$ performs best in terms of being the lowest down the list of potential key lengths compared to other numbers around it (that are not products of distinct primes). To someone trying to intercept and decipher the message, this makes it appear as though the key length of 30 is less likely.\n",
    "\n",
    "This simply comes from the factors of the key length - every number can be factored uniquely into primes, and repeated factors (i.e. 3^2) can be checked just once (3). So this is what we do to maximise the number of factors that need to be checked. "
   ]
  },
  {
   "cell_type": "markdown",
   "id": "d0dba9b9",
   "metadata": {},
   "source": [
    "### 5.4 - Kasiski crack <a id='5.4'></a>\n",
    "\n",
    "The kasiski_crack function is written below and uses crack_caesar to decipher the ciphertext after splitting it into groups according to the key length determined previously."
   ]
  },
  {
   "cell_type": "code",
   "execution_count": 26,
   "id": "e174e20c",
   "metadata": {},
   "outputs": [],
   "source": [
    "def kasiski_crack(ciphertext, key_length, alphabet):\n",
    "    \"\"\"Attempts to Kasiski crack the Vigenere cipher by determining the key length and\n",
    "    then using letter frequency analysis to figure out the individual Caesar shifts.\n",
    "    OUTPUT: 'plaintext'.\"\"\"\n",
    "    \n",
    "    global ENG_FREQ\n",
    "    cracked = [None] * len(ciphertext) \n",
    "    \n",
    "    key = \"\"  \n",
    "    \n",
    "    for j in range(key_length):   #every jth letter up to length of key\n",
    "        jth_letters = \"\"\n",
    "        for i in range(len(ciphertext)):\n",
    "            \n",
    "            if i % key_length == j:   #jth, jth + length key, jth + 2*length key,...\n",
    "                jth_letters += ciphertext[i]   #split ciphertext into j strins\n",
    "                jth_cracked, shift = crack_caesar(jth_letters, alphabet, three_attempts = False)   \n",
    "                #caesar crack each split string\n",
    "                \n",
    "                for k in range(len(jth_cracked)):   #piece cracked string back together\n",
    "                    cracked[j + k*key_length] = jth_cracked[k]\n",
    "                    \n",
    "        key += alphabet[shift]  #reconstruct the key according to the crack process\n",
    "    \n",
    "    cracked = \"\".join(cracked)   #turn back into string\n",
    "    return cracked, key  "
   ]
  },
  {
   "cell_type": "markdown",
   "id": "be1629ca-6362-4b67-8b86-9c1a720b5d26",
   "metadata": {},
   "source": [
    "Now we can run kasiski_crack over our list of key lengths until we get the correct plaintext output."
   ]
  },
  {
   "cell_type": "markdown",
   "id": "98b3d3d2",
   "metadata": {},
   "source": [
    "##### Testing"
   ]
  },
  {
   "cell_type": "code",
   "execution_count": 27,
   "id": "b482e689",
   "metadata": {},
   "outputs": [
    {
     "name": "stdout",
     "output_type": "stream",
     "text": [
      "The plaintext: CHAPTERLoomingsCallmeIshmaelSomeyearsagonevermindh ... \n",
      "The ciphertext: yIUaSIPekpGtmkqVWmFxdMqAibywRskxufuCreeHjfPpqqgGZi ... \n",
      "The key length (assume unknown) is: 8\n",
      "\n",
      "\n",
      "The cracked cipher reads: CHAPTERLoomingsCallmeIshmaelSomeyearsagonevermindh ... \n",
      "It took 3 attempts to crack so we can confirm the key length must have been 8 which is the 3rd value in our key lengths list.\n"
     ]
    }
   ],
   "source": [
    "plaintext = Mobey_extracted[:5000]\n",
    "ciphertext, key = vigenere_encipher(plaintext, alph, 8)\n",
    "key_lengths = find_key_length_v2(ciphertext)\n",
    "print(\"The plaintext:\", plaintext[:50],\"...\", \"\\nThe ciphertext:\", ciphertext[:50],\"...\", \n",
    "      \"\\nThe key length (assume unknown) is: 8\")\n",
    "\n",
    "count = 0\n",
    "for length in key_lengths:\n",
    "    count += 1\n",
    "    cracked, _ = kasiski_crack(ciphertext, length, alph)\n",
    "    if cracked == plaintext:\n",
    "        print(\"\\n\\nThe cracked cipher reads:\", cracked[:50],\"...\", \"\\nIt took\", count,\n",
    "              \"attempts to crack so we can confirm the key length must have been\", key_lengths[2],\n",
    "              \"which is the 3rd value in our key lengths list.\")\n",
    "        break"
   ]
  },
  {
   "cell_type": "markdown",
   "id": "8ad10864",
   "metadata": {},
   "source": [
    "### 5.5 - Limitations of Kasiski analysis<a id='5.5'></a>"
   ]
  },
  {
   "cell_type": "markdown",
   "id": "62330162-5273-4bda-811f-1d3c32e87e5f",
   "metadata": {},
   "source": [
    "So after some attempts we can crack the Vigenere cipher. However, note that with shorter messages, or comparatively longer keys, it becomes much harder to do this. This is because after we split the message into groups of Caesar shifts corresponding to each character of the key, we get much shorter strings of ciphered letters. If these strings are too short, the crack_caesar function can struggle to perform accurate letter frequency analysis on the ciphered strings. This results in inaccurate Caesar deciphers and, therefore, Vigenere deciphers. \n",
    "\n",
    "Below we test an example to show this."
   ]
  },
  {
   "cell_type": "code",
   "execution_count": 28,
   "id": "7ab6ec62-c30b-48c2-ab9e-b7a5b6e9fe36",
   "metadata": {},
   "outputs": [
    {
     "name": "stdout",
     "output_type": "stream",
     "text": [
      "The plaintext: CHAPTERLoomingsCallmeIshmaelSomeyearsagonevermindh ... \n",
      "The ciphertext: ClblWryToSNEqTZKaPMIhvZpmEFHVbTmyIBNvNNwnIWAuZPvdL ... \n",
      "The key length (assume unknown) is: 8\n",
      "\n",
      "\n",
      "The attempted cipher crack reads: CsAPTERLoZmingsCaWlmeIshmLelSomeyParsagonPvermindS ...\n",
      "Using key length: 8\n",
      "\n",
      "\n",
      "Looking at the original and reconstructed keys, you can see there is a slight difference between them:\n",
      " aEBwdNHi aTBwdNHi\n"
     ]
    }
   ],
   "source": [
    "plaintext = Mobey_extracted[:1800]\n",
    "key_length = 8\n",
    "ciphertext, key = vigenere_encipher(plaintext, alph, key_length)\n",
    "print(\"The plaintext:\", plaintext[:50],\"...\", \"\\nThe ciphertext:\", ciphertext[:50],\"...\", \n",
    "      \"\\nThe key length (assume unknown) is: 8\")\n",
    "\n",
    "cracked, key_reconstruct = kasiski_crack(ciphertext, key_length, alph)\n",
    "print(\"\\n\\nThe attempted cipher crack reads:\", cracked[:50],\"...\\nUsing key length:\", key_length)\n",
    "\n",
    "print(\"\\n\\nLooking at the original and reconstructed keys\"\n",
    "      \", you can see there is a slight difference between them:\\n\", key, key_reconstruct)"
   ]
  },
  {
   "cell_type": "markdown",
   "id": "5a368631-00d5-48c8-ae17-1dab0d4a9320",
   "metadata": {},
   "source": [
    "The attempted cipher crack (using the correct key length) for a message of 1800 characters above results in a deciphering close to actual plaintext but not entirely correct. This is because the second group string failed to be Caesar deciphered correctly due to insufficient letter frequency analysis. \n",
    "\n",
    "Note: if we were to try a potential key length that was some multiple of the actual key length, we could decipher the message just fine in theory. However, in practice, we may run into the problem above as we have reduced the number of characters in each group string. \n",
    "\n",
    "Recall from earlier the min length of a string to maximise the likelihood of cracking the Caesar cipher (taken with a large pinch of salt due to small sample size) - aproximately $500$ characters. Let the length of the ciphertext be $x$ and the length of the Vigenere key be $n$. Now consider how the kasiski_crack function works. It takes $n$ strings and applies the crack_caesar function to each of them. Therefore, each string will have approximately $y = x/n$ characters. If $y < 500$, then the crack_caesar function is less likely to accurately decipher each of these strings and in turn kasiski_crack is less likely to return the correct plaintext."
   ]
  },
  {
   "cell_type": "markdown",
   "id": "7237ad14-70c1-43fc-85c4-424601862eaa",
   "metadata": {},
   "source": [
    "##### Testing\n",
    "\n",
    "Here we test each of the texts with random key lengths and predict wheather the function kasiski_crack will succeed in deciphering the cipher using the $y$-value defined above. "
   ]
  },
  {
   "cell_type": "code",
   "execution_count": 29,
   "id": "e2d4dbf8-8a84-4c65-a4ba-7d13cd095bf2",
   "metadata": {},
   "outputs": [
    {
     "name": "stdout",
     "output_type": "stream",
     "text": [
      "Testing text 1\n",
      "y =  1728.0\n",
      "Prediction: PASS\n",
      "Actual key length is: 8\n",
      "\tTesting crack...\n",
      "\tTest PASSED! :D\n",
      "\n",
      "Testing text 2\n",
      "y =  2087.24\n",
      "Prediction: PASS\n",
      "Actual key length is: 25\n",
      "\tTesting crack...\n",
      "\tTest PASSED! :D\n",
      "\n",
      "Testing text 3\n",
      "y =  370.654\n",
      "Prediction: FAIL\n",
      "Actual key length is: 26\n",
      "\tTesting crack...\n",
      "\tTest FAILED! :(\n",
      "\n",
      "Testing text 4\n",
      "y =  154.357\n",
      "Prediction: FAIL\n",
      "Actual key length is: 42\n",
      "\tTesting crack...\n",
      "\tTest FAILED! :(\n",
      "\n",
      "Testing text 5\n",
      "y =  385.652\n",
      "Prediction: FAIL\n",
      "Actual key length is: 23\n",
      "\tTesting crack...\n",
      "\tTest FAILED! :(\n",
      "\n",
      "Testing text 6\n",
      "y =  286.806\n",
      "Prediction: FAIL\n",
      "Actual key length is: 31\n",
      "\tTesting crack...\n",
      "\tTest FAILED! :(\n",
      "\n",
      "Long text testing complete.\n",
      " 2 out of 6 tests passed.\n"
     ]
    }
   ],
   "source": [
    "# Long message testing... \n",
    "count = 0\n",
    "for text in list_texts:\n",
    "    \n",
    "    print(\"Testing text\", list_texts.index(text)+1)\n",
    "    extracted_text = hybrid.extract_text(hybrid.url_to_text_utf8(text), alph)   #extract text\n",
    "    key_length = random.randint(1, 50)   #random key length\n",
    "    char_per_string = len(extracted_text)/key_length\n",
    "    print(\"y = \", round(char_per_string, 3))\n",
    "    if char_per_string < 500:\n",
    "        print(\"Prediction: FAIL\")\n",
    "    else:\n",
    "        print(\"Prediction: PASS\")\n",
    "    print(\"Actual key length is:\", key_length)\n",
    "    \n",
    "    ciphertext, key = vigenere_encipher(extracted_text, alph, key_length)   #enciphered \n",
    "    \n",
    "    \n",
    "    print(\"\\tTesting crack...\")\n",
    "    cracked, key = kasiski_crack(ciphertext, key_length, alph)   #deciphered\n",
    "        \n",
    "    if extracted_text == cracked:   #pass/fail\n",
    "        print(\"\\tTest PASSED! :D\\n\")\n",
    "        count += 1\n",
    "    else:\n",
    "        print(\"\\tTest FAILED! :(\\n\")\n",
    "    \n",
    "print(\"Long text testing complete.\\n\", count, \"out of 6 tests passed.\")"
   ]
  },
  {
   "cell_type": "markdown",
   "id": "65bee07e-8eed-43bb-9268-9e4ca671120c",
   "metadata": {},
   "source": [
    "Also note that the longer the key length the more times the function calls crack_caesar and so the more likely it is to fail. \n",
    "\n",
    "The above tests seem to predict the outcome of the attempted crack with somewhat decent accuracy (run multiple times to test).\n",
    "\n",
    "#### Automated version of Kasiski crack funtion:\n",
    "\n",
    "In the below cell, we have implemented the kasiski_crack function over a for loop into a new function to automate the process of finding the best fitting crack. It works by first finding the list of potential key lengths and selecting the top 0.4% (or 5, whichever is most) of these for testing. It then runs the for loop with each potential length to get the potential deciphers. We then compare the frequecies of each letter of each of the deciphered texts to those of known English using a score function (see below in code).  The decipher with the lowest score is our best candidate for the deciphering as it is closest to the known frequencies of the English language. "
   ]
  },
  {
   "cell_type": "code",
   "execution_count": 30,
   "id": "95adc6ca",
   "metadata": {},
   "outputs": [],
   "source": [
    "def kasiski_crack_v2(ciphertext, alphabet, verbose = False):\n",
    "    \"\"\"Automates the kasiski_crack function to return the best candidate for the\n",
    "    correct deciphering of the Vigenere ciphertext. \n",
    "    OUTPUT: crack, keylength, reconstructed key\"\"\"\n",
    "    \n",
    "    global ENG_FREQ_UNSORT\n",
    "    \n",
    "    lengths = find_key_length_v2(ciphertext)   #list of potential key lengths\n",
    "    perc = max(round(0.004 * len(lengths)), 5)   #top 0.4% of lengths\n",
    "    lengths_tested = lengths[:perc]\n",
    "    let_difs = []\n",
    "    cracks = []\n",
    "    keys = []\n",
    "    \n",
    "    if verbose == True:\n",
    "        print(lengths_tested)\n",
    "    \n",
    "    for length in lengths_tested:\n",
    "        cracked, key = kasiski_crack(ciphertext, length, alphabet)   #crack using key length\n",
    "        crack_dict = character_freq(cracked, alphabet, sort = False)   #create dictionary of cracked letter freq.\n",
    "        \n",
    "        let_dif = 0\n",
    "        for let in alphabet:\n",
    "            let_dif += (crack_dict[let] - ENG_FREQ_UNSORT[let])**2   \n",
    "            #score function: the closer to 'true' English, the lower the score\n",
    "        \n",
    "        let_difs.append(let_dif)\n",
    "        cracks.append(cracked)\n",
    "        keys.append(key)\n",
    "        #print(cracked)\n",
    "    \n",
    "    best_dif = min(let_difs)\n",
    "    #print(let_difs, best_dif)\n",
    "    index = let_difs.index(best_dif)\n",
    "    \n",
    "    return cracks[index], lengths_tested[index], keys[index]"
   ]
  },
  {
   "cell_type": "markdown",
   "id": "7e007268",
   "metadata": {},
   "source": [
    "##### Testing\n",
    "\n",
    "Here we test the automated version with two of the example texts."
   ]
  },
  {
   "cell_type": "code",
   "execution_count": 31,
   "id": "cf3f0b5c",
   "metadata": {},
   "outputs": [
    {
     "name": "stdout",
     "output_type": "stream",
     "text": [
      "\n",
      "The key lengths kasiski_crack_v2 will test...\n",
      "[7, 2, 14, 3, 21, 4]\n",
      "The best crack the function found... \n",
      " CHAPTERLoomingsCallmeIshmaelSomeyearsagonevermindhowlongpreciselyhavinglittleornomoneyinmypurseandnothingparticulartointerestmeonshoreIthoughtIwouldsailaboutalittleandseethewaterypartoftheworldItisawayIhaveofdrivingoffthespleenandregulatingthecirculationWheneverIfindmyselfgrowinggrimaboutthemouthwhe ...\n",
      "\n",
      "The key lengths kasiski_crack_v2 will test...\n",
      "[2, 4, 8, 3, 6]\n",
      "The best crack the function found... \n",
      " ThevastgrayexpanseofthedesertlaystillasapictureintheheatoftheearlyafternoonThesilenceofwasteplaceshelditItwasgauntandsterilecladwithadrabgrowthofsageflatasatableandwiththewhitescurfofthealkalibreakingthroughitsparchedskinItwastheearthleansaplessandmarkedwithdiseaseAchainofpurplehillslookeddownonitsd ...\n"
     ]
    }
   ],
   "source": [
    "for i in (2, 3):    \n",
    "    text = hybrid.extract_text(hybrid.url_to_text_utf8(list_texts[i]), alph)   #extract text\n",
    "    length = random.randint(4, 15)\n",
    "    ciphertext, key = vigenere_encipher(text, alph, length)   #encryption\n",
    "\n",
    "    print(\"\\nThe key lengths kasiski_crack_v2 will test...\")\n",
    "    cracked, length_tested, key_reconstruct = kasiski_crack_v2(ciphertext, alph, True)\n",
    "    print(\"The best crack the function found... \\n\", cracked[:300], \"...\")"
   ]
  },
  {
   "cell_type": "markdown",
   "id": "cd2b9974",
   "metadata": {},
   "source": [
    "And see it returns close to if not exactly the plaintext. "
   ]
  },
  {
   "cell_type": "markdown",
   "id": "7b2491ec-2609-4a43-8cca-e1f78c36ae38",
   "metadata": {},
   "source": [
    "### 5.6 - Hybrid system V1 vulnerabilities <a id='5.6'></a>\n",
    "\n",
    "Finally, we demonstrate how this technique can penetrate our V1 Hybrid system when encrypting long messages, without use of the RSA encrypted key. Since the Kasiski approach to deciphering the Vigenere cipher doesn't require the key at all, the RSA encryption in our hybrid system is rendered useless. "
   ]
  },
  {
   "cell_type": "code",
   "execution_count": 32,
   "id": "a492f045-86ba-4746-96fc-26ff42b2657b",
   "metadata": {},
   "outputs": [
    {
     "name": "stdout",
     "output_type": "stream",
     "text": [
      "Here, we will attempt to send the book 'Emma' using our hybrid system\n",
      " EmmaWoodhousehandsomecleverandrichwithacomfortablehomeandhappydispositionseemedt ...\n",
      "\n",
      "The ciphertext is intercepted!\n",
      " hYHBtwkTaRgNFEijTlRYzDImrUkDZySFkdmbWTvDLubekWMwMBpkcXDZyIxxloWLeKPPqpYhQezFJmZj ...\n",
      "\n",
      "The list of potential key lengths from find_key_length_v2 is:\n",
      "[3, 9, 2, 6, 18]\n",
      "\n",
      "So we crack using each length and analyse for the best option.\n",
      "Here is the decipher with the best score...\n",
      " EmmaWoodhousehandsomecleverandrichwithacomfortablehomeandhappydispositionseemedt ...\n"
     ]
    }
   ],
   "source": [
    "print(\"Here, we will attempt to send the book 'Emma' using our hybrid system\\n\", Emma_extracted[:80], \"...\")\n",
    "plaintext = Emma_extracted[:7000]   #Secret plaintext\n",
    "key_length = 9\n",
    "recipient_public, my_private, fact = c1.RSA_key_generator1(512)   # Generate RSA keys for the hybrid system\n",
    "ciphertext, _ = hybrid_send(plaintext, recipient_public, alph, key_length)   # Apply the hybrid system\n",
    "print(\"\\nThe ciphertext is intercepted!\\n\", ciphertext[:80], \"...\")\n",
    "\n",
    "\n",
    "print(\"\\nThe list of potential key lengths from find_key_length_v2 is:\")\n",
    "cracked, length_tested, key_reconstruct = kasiski_crack_v2(ciphertext, alph, True)\n",
    "print(\"\\nSo we crack using each length and analyse for the best option.\")\n",
    "print(\"Here is the decipher with the best score...\\n\", cracked[:80], \"...\")"
   ]
  },
  {
   "cell_type": "markdown",
   "id": "29b5c401",
   "metadata": {},
   "source": [
    "In this section we implemented functions to analyse and crack the Vigenere cipher using the previously developed function crack_caesar. We then explored the difficulties and limitations of the process and did our best to overcome and automte them. The updated version, kasiski_crack_v2, did this by comparing the potential deciphered texts to the English language, again, using similar techniques to those previously used in crack_caesar. \n",
    "\n",
    "The work here served a purpose - to expose weaknesses in the hybrid system. And, from the example above we can see that we have done this with some ease. \n",
    "\n",
    "Clearly, our hybrid system is not very secure, especially when using short or prime key lengths or very long messages. So to improve security, one can use a long key length with many distinct factors (say, $length = 2*3*5*7*11$) and only send shorter messages. Alternatively (or additionally even), there is a technique of encoding we can use that renders the Kasiski analysis approach essentially useless. In the next section we will implement encoding before applying ciphers to disguise the frequencies of letters in the text. "
   ]
  },
  {
   "cell_type": "markdown",
   "id": "7feddc56-d9a4-46d3-bd15-9e65879adb7d",
   "metadata": {},
   "source": [
    "## 6 - Bigram encoding to prevent Kasiski analysis<a id='6'></a>"
   ]
  },
  {
   "cell_type": "markdown",
   "id": "49f50c0a-bd74-4484-984a-bc185a4ff3b9",
   "metadata": {},
   "source": [
    "### 6.1 - Motivation<a id='6.1'></a>"
   ]
  },
  {
   "cell_type": "markdown",
   "id": "1132414e-ff63-4b6d-8cb7-c48b4946170b",
   "metadata": {},
   "source": [
    "To prevent Kasiski analysis on our enciphered messages, we can encode the message before encryption. We do this by allocating $n$ many bigrams (pairs of letters, 'AB', 'AC', ..., 'ZX') to each letter of the alphabet and randomly selecting one of these $n$ options to replace each letter in the plaintext. This can effectively mask the frequencies of letters in the message/text by making the apparent frequencies uniform. Effectively, this reduces the ability to use the Kasiski approach to deciphering the text dramatically. We explain in more detail the process below. "
   ]
  },
  {
   "cell_type": "markdown",
   "id": "d0eefed3-fe1d-4581-b44a-8ba341e5afba",
   "metadata": {},
   "source": [
    "### 6.2 - Allocating bigrams<a id='6.2'></a>\n",
    "\n",
    "Below we generate the $52*51=2652$ different bigrams without letter repitition (i.e. 'AA', 'BB',...) to be allocated later."
   ]
  },
  {
   "cell_type": "code",
   "execution_count": 33,
   "id": "29b9567b-026b-47c3-b5a9-c3502672422c",
   "metadata": {},
   "outputs": [],
   "source": [
    "def two_grams(alphabet):\n",
    "    \"\"\"Generates all the 2-grams excluding repeated letters.\n",
    "    OUTPUT: 'two_grams'.\"\"\"\n",
    "    \n",
    "    two_gram = []\n",
    "    for letter1 in alphabet:\n",
    "        for letter2 in alphabet:\n",
    "            if letter1 != letter2:   #no double letters i.e. 'AA'\n",
    "                two_gram.append(str(letter1) + str(letter2))   #constructed all of 25 X 26 2-grams\n",
    "    \n",
    "    return two_gram"
   ]
  },
  {
   "cell_type": "code",
   "execution_count": 34,
   "id": "a5b316f0-8f64-426b-95e7-84122ce452df",
   "metadata": {},
   "outputs": [
    {
     "name": "stdout",
     "output_type": "stream",
     "text": [
      "['ar', 'as', 'at', 'au', 'av', 'aw', 'ax', 'ay', 'az', 'aA', 'aB', 'aC', 'aD', 'aE', 'aF', 'aG', 'aH', 'aI', 'aJ']\n"
     ]
    }
   ],
   "source": [
    "BIGRAMS = two_grams(alph)\n",
    "print(BIGRAMS[16:35])   "
   ]
  },
  {
   "cell_type": "markdown",
   "id": "c7b83afa-1b4c-40c8-8110-a75b01f8cb68",
   "metadata": {},
   "source": [
    "We don't want repeated letters, i.e. 'AA', 'BB',... This is because a pattern of say 'AAAA', although unlikely to appear, would indicate a double letter in our plaintext - 'ee' or 'oo' for example - which could make it easier to crack our message.\n",
    "\n",
    "Next we need some functions that allocate $n=52*51*letterfreq$ number of bigrams to each letter of the alphabet. This will essentially mask the frequency of letters by making the occurences of each of the bigrams roughly uniform, preventing any type of frequency analysis."
   ]
  },
  {
   "cell_type": "code",
   "execution_count": 35,
   "id": "96fca86f-40a4-41fd-9d26-6bbb5b00ad87",
   "metadata": {},
   "outputs": [],
   "source": [
    "# To find out how many bigrams each letter should have\n",
    "def number_grams(alphabet):\n",
    "    \"\"\"Takes large extracted text and returns a dictionary of alphabet with \n",
    "    how many two grams each letter should be assigned to.\n",
    "    OUTPUT: dictionary.\"\"\"\n",
    "    \n",
    "    global ENG_FREQ_UNSORT\n",
    "    \n",
    "    options = len(alphabet)*(len(alphabet)-1) - len(alphabet)   \n",
    "    # -len(alph) to allow room for each letter to have minimum 1 allowcation\n",
    "    \n",
    "    no_grams = {}\n",
    "    for let in alphabet:\n",
    "        no_grams[let] = math.floor(options * ENG_FREQ_UNSORT[let]) + 1   # +1 to ensure at least 1 allocation\n",
    "        \n",
    "    return no_grams\n",
    "\n",
    "# To randomly allocate specific bigrams to letters\n",
    "def random_allocation(no_grams, alphabet):\n",
    "    \"\"\"Takes dictionary (from function 'number_grams'), all possible 2-grams\n",
    "    and the alphabet to be encoded and returns a dictionary corresponding to\n",
    "    strings that contain the set of encoding 2-grams for each letter of the alphabet.\n",
    "    OUTPUT: dictionary.\"\"\"\n",
    "    \n",
    "    global BIGRAMS\n",
    "    \n",
    "    options = len(alphabet)*(len(alphabet)-1)   #all possible 2-grams (minus repeats such as 'AA', 'BB,...')\n",
    "    gram_dict = {}\n",
    "    used = \"\"   #ensure no 2-gram used twice\n",
    "    \n",
    "    for let in alphabet:\n",
    "        grams = \"\"\n",
    "        \n",
    "        while len(grams) < no_grams[let]*3:   #fill the string of 2-grams until it has the right amount \n",
    "            index = random.randrange(options)\n",
    "            \n",
    "            if (BIGRAMS[index] + \" \") not in used:\n",
    "                grams += BIGRAMS[index] + \" \"\n",
    "                used += BIGRAMS[index] + \" \"\n",
    "        \n",
    "        gram_dict[let] = grams\n",
    "        \n",
    "    return gram_dict"
   ]
  },
  {
   "cell_type": "markdown",
   "id": "d41a705a",
   "metadata": {},
   "source": [
    "##### Testing\n",
    "\n",
    "Here we perform a check to show how bigrams are allocated to the letter 'a'. "
   ]
  },
  {
   "cell_type": "code",
   "execution_count": 36,
   "id": "ef9c6ecd-94e2-4e0e-ac19-6865899b6595",
   "metadata": {},
   "outputs": [
    {
     "name": "stdout",
     "output_type": "stream",
     "text": [
      "The list of bigrams for the letter 'a' are: Pj BI Or Wc Mq mE bS RD uK fe cy SR...\n",
      "The number of bigrams in this list is: 211\n",
      "The correct number of bigrams according to 'number_grams' is: 211\n",
      "The frequency of 'a' multiplied by 2652 is: 214.8978635644635\n"
     ]
    }
   ],
   "source": [
    "# We will use lowercase letters only for now\n",
    "alph_lower = string.ascii_lowercase\n",
    "no_grams = number_grams(alph)\n",
    "gram_dict = random_allocation(no_grams, alph)\n",
    "print(\"The list of bigrams for the letter 'a' are: \" + gram_dict['a'][:35] + \"...\")\n",
    "print(\"The number of bigrams in this list is: \" + str(len(gram_dict['a'])//3))\n",
    "print(\"The correct number of bigrams according to 'number_grams' is: \" + str(no_grams['a']))\n",
    "print(\"The frequency of 'a' multiplied by 2652 is: \" + str(ENG_FREQ_UNSORT['a'] * 52*51))"
   ]
  },
  {
   "cell_type": "markdown",
   "id": "56a3f819-d155-4cf1-b344-6cdd2e014198",
   "metadata": {},
   "source": [
    "### 6.3 - Encoding/Decoding<a id='6.3'></a>"
   ]
  },
  {
   "cell_type": "markdown",
   "id": "2d5d4c75-326b-420d-8a7d-e2d8cc1d4315",
   "metadata": {},
   "source": [
    "Below is a function which records encoding information in a string. It cycles the alphabet and lists the bigrams for each letter, separating letters by a '-' symbol. This will be useful for transferring the coding information with the key in our hybrid system later on."
   ]
  },
  {
   "cell_type": "code",
   "execution_count": 37,
   "id": "4e616dec-2121-4bbe-9e4f-fd21625a1a97",
   "metadata": {},
   "outputs": [],
   "source": [
    "def encoding_info(gram_dict, alphabet, divide = \"-\"):\n",
    "    \"\"\"Returns the encoding information for 2-gram letter frequency masking.\n",
    "    OUTPUT: 'string'.\"\"\"\n",
    "    \n",
    "    info = \"\"\n",
    "    for let in alphabet:\n",
    "        info += gram_dict[let] + divide\n",
    "    return info"
   ]
  },
  {
   "cell_type": "code",
   "execution_count": 38,
   "id": "7d5b60fb-c1b1-41b9-91f6-7751c2e9ae96",
   "metadata": {},
   "outputs": [
    {
     "name": "stdout",
     "output_type": "stream",
     "text": [
      "... zB xe GU lV Ie sK vI FW yf DF MG -Wo nu Pr eF aS eq fP dN WG VI xY sC fL Hl AH CF mi sA gZ Sf vM Su  ...\n"
     ]
    }
   ],
   "source": [
    "print(\"...\", encoding_info(gram_dict, alph_lower, divide = \"-\")[600:700], \"...\")\n",
    "#the first section corresponds to 'a' and the second to 'b'"
   ]
  },
  {
   "cell_type": "markdown",
   "id": "89c6483b-f602-43c1-b07a-d0588a019836",
   "metadata": {},
   "source": [
    "Now, to encode we simply choose at random one of the bigrams from our pre-determined selection to replace each letter of the plaintext. And to decode, we just look at which set each bigram in the encoded message falls into and select the corresponding letter for that set."
   ]
  },
  {
   "cell_type": "code",
   "execution_count": 39,
   "id": "3a010cb9-f23b-44d0-8436-0f2ce80372c7",
   "metadata": {},
   "outputs": [],
   "source": [
    "def encoding(plaintext, no_grams, gram_dict, alphabet):\n",
    "    \"\"\"Encodes text by randomly selecting a 2-gram from the set of options previously determined.\n",
    "    OUTPUT: 'encoded_text'.\"\"\"\n",
    "    \n",
    "    encoded_text = \"\"\n",
    "    for let in plaintext:\n",
    "        index = random.randrange(no_grams[let])   #choose a random 2-gram from selection\n",
    "        gram = (gram_dict[let])[index*3:index*3+3]   #find that 2-gram\n",
    "        encoded_text += gram[:2]\n",
    "        \n",
    "    return encoded_text\n",
    "\n",
    "\n",
    "def decoding(encoded_text, gram_dict, alphabet):\n",
    "    \"\"\"Decodes text using gram_dict to retrieve the original text.\n",
    "    OUTPUT: 'decoded_text'.\"\"\"\n",
    "    \n",
    "    decoded = \"\"\n",
    "    for i in range(len(encoded_text)//2):\n",
    "        for let in alphabet:\n",
    "            if (encoded_text[i*2:i*2+2] + \" \") in gram_dict[let]:\n",
    "                decoded += let\n",
    "    \n",
    "    return decoded"
   ]
  },
  {
   "cell_type": "markdown",
   "id": "c4fdaa54-0ad4-4aa8-bcbd-94a03c64948e",
   "metadata": {},
   "source": [
    "##### Testing\n",
    "\n",
    "A quick test to check the concept is working."
   ]
  },
  {
   "cell_type": "code",
   "execution_count": 40,
   "id": "fa436b0f-c2a7-4604-ad8e-b96a82802f8f",
   "metadata": {},
   "outputs": [
    {
     "name": "stdout",
     "output_type": "stream",
     "text": [
      "The plaintext message is: hellotestMessage\n",
      "The encoded message is: hbtreztcpRaRSoJcaWjglXRIkPuySAnZ\n",
      "The decoded message is: hellotestMessage\n"
     ]
    }
   ],
   "source": [
    "plaintext = \"hellotestMessage\"\n",
    "no_grams = number_grams(alph)\n",
    "message = encoding(plaintext, no_grams, gram_dict, alph)\n",
    "print(\"The plaintext message is: \" + str(plaintext))\n",
    "print(\"The encoded message is: \" + str(message))\n",
    "decoded = decoding(message, gram_dict, alph)\n",
    "print(\"The decoded message is: \" + str(decoded))"
   ]
  },
  {
   "cell_type": "markdown",
   "id": "15bf5252",
   "metadata": {},
   "source": [
    "Here, we run another test to demonstrate the masking ability of the bigram encoding."
   ]
  },
  {
   "cell_type": "code",
   "execution_count": 41,
   "id": "7601b3a3",
   "metadata": {},
   "outputs": [
    {
     "name": "stdout",
     "output_type": "stream",
     "text": [
      "The list of letter frequencies in the plaintext for the first 5 letters in alph:\n",
      " [0.0859075535512965, 0.016121758737316798, 0.02142051860202931, 0.045997745208568204, 0.12322435174746336] \n",
      "\n",
      "The list of letter frequencies in the encoded text for the first 5 letters in alph:\n",
      " [0.01899661781285231, 0.01871476888387824, 0.018151071025930103, 0.020462232243517474, 0.019954904171364148]\n",
      "\n",
      "The minimum and maximum frequencies of letters in the plaintext are: 0.0 0.12322435174746336\n",
      "The minimum and maximum frequencies of letters in the encoded text are: 0.01713641488162345 0.02164599774520857\n"
     ]
    }
   ],
   "source": [
    "url = \"https://raw.githubusercontent.com/cmh42/hc/main/message_treasure_island.txt\"\n",
    "plaintext = hybrid.extract_text(hybrid.url_to_text_utf8(url), alph)\n",
    "no_grams = number_grams(alph)\n",
    "gram_dict = random_allocation(no_grams, alph)\n",
    "encoded = encoding(plaintext, no_grams, gram_dict, alph)\n",
    "\n",
    "\n",
    "plain_freq = character_freq(plaintext, alph)\n",
    "encoded_freq = character_freq(encoded, alph)\n",
    "plain_list = []\n",
    "encoded_list = []\n",
    "for letter in alph:\n",
    "    plain_list.append(plain_freq[letter])\n",
    "    encoded_list.append(encoded_freq[letter])\n",
    "    \n",
    "print(\"The list of letter frequencies in the plaintext for the first 5 letters in alph:\\n\",\n",
    "      plain_list[:5],\"\\n\")\n",
    "print(\"The list of letter frequencies in the encoded text for the first 5 letters in alph:\\n\", \n",
    "      encoded_list[:5])\n",
    "print(\"\\nThe minimum and maximum frequencies of letters in the plaintext are:\",\n",
    "      min(plain_list), max(plain_list))\n",
    "print(\"The minimum and maximum frequencies of letters in the encoded text are:\",\n",
    "      min(encoded_list), max(encoded_list))"
   ]
  },
  {
   "cell_type": "markdown",
   "id": "cf7b5b8d",
   "metadata": {},
   "source": [
    "So the variation in frequencies is greatly reduced by encoding, from a spread of $0.123$ to $0.00484$. Now, each letter appears more or less as frequent as the others, removing any possibility of using Kasiski analysis to crack the cipher."
   ]
  },
  {
   "cell_type": "markdown",
   "id": "ad6527c3-de93-476b-82d2-baade3a4b57a",
   "metadata": {},
   "source": [
    "### 6.4 - Hybrid system V2<a id='6.4'></a>"
   ]
  },
  {
   "cell_type": "markdown",
   "id": "2460589b-7b25-4a1d-b1d4-39ee62f3f0b1",
   "metadata": {},
   "source": [
    "We can implement this encoding into our hybrid system of encryption to add another layer of protection of our message. The idea is that the plaintext is encoded using the bigram method first and then Vigenere encrypted and the encoding info is appendeded to the Vigenere key. The Vigenere key and the encoding info is then sliced and RSA encrypted as before. The idea of the encoding is that it should provide protection against Kasiski style analysis. "
   ]
  },
  {
   "cell_type": "code",
   "execution_count": 42,
   "id": "ec50fa44-9e64-4429-89c5-a34b162426fa",
   "metadata": {},
   "outputs": [],
   "source": [
    "def hybrid_send_v2(plaintext, recipient_public, alphabet, key_length = 5, return_dict = False):\n",
    "    \"\"\"Takes plaintext and encodes it with 2-gram mapping and then RSA and hybrid\n",
    "    encrypts the message using the core 4 algorithm.\n",
    "    OUTPUT: ('vig message', 'RSA encrypted vig keys -- encoding info').\"\"\"\n",
    "    \n",
    "    global BIGRAMS\n",
    "    \n",
    "    no_grams = number_grams(alphabet)   #create dict for number of bigrams per letter\n",
    "    gram_dict = random_allocation(no_grams, alphabet)   #create dictionaries for encoding\n",
    "    plaintext = encoding(plaintext, no_grams, gram_dict, alphabet)   #do the encoding\n",
    "    info = encoding_info(gram_dict, alphabet, divide = \"-\")   #encoding information\n",
    "    \n",
    "    vig_message, vig_key = vigenere_encipher(plaintext, alphabet, key_length)   \n",
    "    #encipher message and generate vig key\n",
    "    vig_key += \"--\" + info   #add encoding info to vig key\n",
    "    \n",
    "    no_slices = (len(vig_key)//60) + 1  #number of slices\n",
    "    keys = []\n",
    "    for i in range(no_slices):\n",
    "        keys.append(vig_key[i*60:(i+1)*60])   #take out slices of length 60\n",
    "    \n",
    "    for i in range(len(keys)):\n",
    "        keys[i] = c1.convert_to_integer(keys[i])   #convert each slice to integer form\n",
    "        keys[i] = pow(keys[i], recipient_public[1], recipient_public[0])   #RSA encrypt each slice \n",
    "        \n",
    "    keys = tuple(keys)   #convert to tuple\n",
    "    \n",
    "    if return_dict == True:\n",
    "        return vig_message, keys, gram_dict\n",
    "    \n",
    "    else:\n",
    "        return vig_message, keys\n",
    "\n",
    "\n",
    "def hybrid_recieve_v2(ciphertext, keys_tuple, my_private, my_public, alphabet):\n",
    "    \"\"\"Takes ciphertext, keys tuple and encoding info and RSA keys and deciphers\n",
    "    according to core 4 method of hybrid encryption and 2-gram encoding.\n",
    "    OUTPUT: 'plaintext'.\"\"\"\n",
    "    \n",
    "    keys = list(keys_tuple)\n",
    "    vig_key = \"\"\n",
    "    for i in range(len(keys)):\n",
    "        keys[i] = pow(keys[i], my_private, my_public[0])   #convert to integer\n",
    "        keys[i] = c1.convert_to_text(keys[i])   #convert to vig key\n",
    "        vig_key += keys[i]   #concatenate key back together\n",
    "        \n",
    "    keys = vig_key\n",
    "    index = keys.find(\"-\")\n",
    "    vig = keys[:index]\n",
    "    \n",
    "    enc = keys[index+2:]   #find encoding info\n",
    "    gram_dict = {}   #create dictionary for encoding\n",
    "    for let in alphabet:\n",
    "        index = enc.find(\"-\")   #find info for each letter\n",
    "        gram_dict[let] = enc[:index]   #input into dictionary\n",
    "        enc = enc[index+1:]   #update encoding info string\n",
    "    \n",
    "    plaintext = vigenere_decipher(ciphertext, vig, alphabet)\n",
    "    decoded_text = decoding(plaintext, gram_dict, alphabet)\n",
    "    \n",
    "    return decoded_text"
   ]
  },
  {
   "cell_type": "markdown",
   "id": "e5cf7efb-7404-4689-b9df-da6fecece7b6",
   "metadata": {},
   "source": [
    "##### Testing"
   ]
  },
  {
   "cell_type": "code",
   "execution_count": 43,
   "id": "d370db69-a6b7-40b9-a9d7-4e7706155eb6",
   "metadata": {},
   "outputs": [
    {
     "name": "stdout",
     "output_type": "stream",
     "text": [
      "Super short message test:\n",
      "The plaintext is: HelloThisIsATestMessageForYou \n",
      "The ciphertext is: VwgCFqDVVFephAoLjkftlpwyHBOGncCRLsJuMlfrtMJVjcFPpjysdkEcSK\n",
      "The deciphered text is: HelloThisIsATestMessageForYou\n",
      "\n",
      "Short message testing passed!\n",
      "Long text testing passed!\n"
     ]
    }
   ],
   "source": [
    "# Short message testing\n",
    "print(\"Super short message test:\")\n",
    "plaintext = \"HelloThisIsATestMessageForYou\"\n",
    "recipient_public, my_private, fact = c1.RSA_key_generator1(512)\n",
    "ciphertext, keys_tuple = hybrid_send_v2(plaintext, recipient_public, alph, key_length = 5)\n",
    "print(\"The plaintext is:\", plaintext, \"\\nThe ciphertext is:\", ciphertext)\n",
    "deciphered = hybrid_recieve_v2(ciphertext, keys_tuple, my_private, recipient_public, alph)\n",
    "print(\"The deciphered text is:\", deciphered)\n",
    "assert plaintext == deciphered\n",
    "\n",
    "\n",
    "# More short message testing - randomly generated plaintexts length 1 - 100\n",
    "    #testing messages that will have at most two key sections...\n",
    "for n in range(10):\n",
    "    \n",
    "    recipient_public, my_private, fact = c1.RSA_key_generator1(512)\n",
    "    \n",
    "    plaintext_list = [alph[random.randint(0, 51)] for m in range(random.randint(1, 100))]\n",
    "    plaintext = \"\"\n",
    "    for letter in plaintext_list:\n",
    "        plaintext += letter   #created random plaintext 'message' (string of random characters)\n",
    "    \n",
    "    key_length = random.randint(1, 100)   #test different key lengths\n",
    "    \n",
    "    ciphertext, keys_tuple = hybrid_send_v2(plaintext, recipient_public, alph, key_length)   #enciphered \n",
    "    deciphered = hybrid_recieve_v2(ciphertext, keys_tuple, my_private, recipient_public, alph)   #deciphered\n",
    "\n",
    "    assert plaintext == deciphered\n",
    "\n",
    "print(\"\\nShort message testing passed!\")\n",
    "   \n",
    "    \n",
    "# Long message testing... \n",
    "for text in list_texts:\n",
    "    \n",
    "    recipient_public, my_private, fact = c1.RSA_key_generator1(512)   #generate new RSA keys for each text\n",
    "    extracted_text = hybrid.extract_text(hybrid.url_to_text_utf8(text), alph)   #extract text\n",
    "    key_length = random.randint(1, 500)   #random key length\n",
    "    \n",
    "    ciphertext, key = hybrid_send_v2(extracted_text, recipient_public, alph, key_length)   #enciphered \n",
    "    deciphered = hybrid_recieve_v2(ciphertext, key, my_private, recipient_public, alph)   #deciphered\n",
    "    assert extracted_text == deciphered\n",
    "    #This takes a little bit of time...\n",
    "    \n",
    "print(\"Long text testing passed!\")"
   ]
  },
  {
   "cell_type": "markdown",
   "id": "da408965",
   "metadata": {},
   "source": [
    "### 6.5 - Evaluation of improved hybrid system<a id='6.5'></a>"
   ]
  },
  {
   "cell_type": "markdown",
   "id": "c3a8dbfe",
   "metadata": {},
   "source": [
    "In this section we have again improved the security of the messages/texts we can send using out hybrid system. The problem we faced was the use of letter frequency analysis which used repeated bigrams to find estimates for the length of the Vigenere key and then used the crack_caesar function to decipher independent strings of letters according to these lengths. Encoding the plaintext means that the crack_caesar function has no traction on the enciphered text because there are no discrepancies in the frequencies of letters. Therefore, our kasiski_crack functions from the previous section stand no chance at deciphering any encoded message. Below is a demonstration of this."
   ]
  },
  {
   "cell_type": "code",
   "execution_count": 44,
   "id": "a9da12f6",
   "metadata": {},
   "outputs": [
    {
     "name": "stdout",
     "output_type": "stream",
     "text": [
      "A top-secret message is intercepted...\n",
      " yeIDjlPNgshCWXyULcGiAVuqUtLcmZJrhaYKCXjXWVevuaDbOoOHSrmLaKWsixNbRfKHsLuzvUrtkSRbaDsgdjwgtBRLfFwGkEyR ...\n",
      "[2, 3, 4, 5, 6, 7, 8, 10, 9, 11]\n",
      "\n",
      "We decide to use Kasiski analysis to try and decipher the message using the key lengths above...\n",
      " pPYolxaLatYnmIAgWaAjrGKbWFWagaAcxLaWNVdYNGugwmOZIpFsicoXlIQtZidMTrVFmMlkLFtFvQLcRoIRfvHenCIwvqySvCsS ...\n",
      "\n",
      "The function attempted the crack using a key length of: 10\n",
      "\n",
      "After deciphering and decoding, the result is...\n",
      " ldlfuripnatasnaofdswruneeeiatrullXhoviswuhaaemttleehgeohalhdohaoifhnssherrelsslulccnndrrevopalttidsd ...\n"
     ]
    }
   ],
   "source": [
    "text = hybrid.extract_text(hybrid.url_to_text_utf8(list_texts[4]), alph)\n",
    "recipient_public, my_private, fact = c1.RSA_key_generator1(512)\n",
    "\n",
    "ciphertext, key, gram_dict = hybrid_send_v2(text[:4000], recipient_public, alph, 10, True)\n",
    "print(\"A top-secret message is intercepted...\\n\", ciphertext[:100], \"...\")\n",
    "cracked, length_test, key_reconstruct = kasiski_crack_v2(ciphertext, alph, verbose = True)\n",
    "print(\"\\nWe decide to use Kasiski analysis to try and decipher the message using the key lengths above...\\n\",\n",
    "      cracked[:100], \"...\")\n",
    "print(\"\\nThe function attempted the crack using a key length of:\", length_test)\n",
    "decoded = decoding(cracked, gram_dict, alph)\n",
    "print(\"\\nAfter deciphering and decoding, the result is...\\n\", decoded[:100], \"...\")"
   ]
  },
  {
   "cell_type": "markdown",
   "id": "7e5e2a80",
   "metadata": {},
   "source": [
    "As you can clearly see, the attempt at deciphering the message failed and there is no resemblance to actual English sense. The function struggled to find any patterns in the key lengths indicating the uniformity of the characters in the ciphertext. Even on the occasion that the correct key length was used, the decoded message had no resemblance to the plaintext. This, again, was due to the crack_caesar function not being able to distinguish between different frequencies of letters. \n",
    "\n",
    "The final section of this project focuses on adjusting our system to handle different characters such as punctuation, numbers and printable whitespace. "
   ]
  },
  {
   "cell_type": "markdown",
   "id": "f1cd1701",
   "metadata": {},
   "source": [
    "## 7 - Extra characters <a id='7'></a>\n",
    "\n",
    "### 7.1 - Motivation<a id='7.1'></a>\n",
    "\n",
    "The goal in this section is to improve our system so that we can send not only alphabetic letters but also numbers, punctuation and white space characters (preserving formatting). To do this we need to reassign this new selection of characters to the set of bigrams and resolve a problem with the Vigenere keys."
   ]
  },
  {
   "cell_type": "markdown",
   "id": "cb746272",
   "metadata": {},
   "source": [
    "### 7.2 - Function adjustments<a id='7.2'></a>"
   ]
  },
  {
   "cell_type": "code",
   "execution_count": 45,
   "id": "f9da43ee",
   "metadata": {},
   "outputs": [
    {
     "data": {
      "text/plain": [
       "'0123456789abcdefghijklmnopqrstuvwxyzABCDEFGHIJKLMNOPQRSTUVWXYZ!\"#$%&\\'()*+,-./:;<=>?@[\\\\]^_`{|}~ \\t\\n\\r\\x0b\\x0c'"
      ]
     },
     "execution_count": 45,
     "metadata": {},
     "output_type": "execute_result"
    }
   ],
   "source": [
    "printable = string.printable\n",
    "printable"
   ]
  },
  {
   "cell_type": "markdown",
   "id": "9c31acf6",
   "metadata": {},
   "source": [
    "We want to be able to encipher and decipher all of the above characters (including white space). To do this, we subtly edit a few of the previous functions from section 5 where we encode the text pre-encryption. The choice for bigrams should remain as the $51*52$ bigrams from before, but now spread across all $100$ characters and white spaces for encoding."
   ]
  },
  {
   "cell_type": "code",
   "execution_count": 46,
   "id": "018547a2",
   "metadata": {},
   "outputs": [],
   "source": [
    "# To find out how many bigrams each letter should have\n",
    "def number_grams_v2(alphabet):\n",
    "    \"\"\"Takes large extracted text and returns a dictionary of alphabet with \n",
    "    how many two grams each letter should be assigned to.\n",
    "    OUTPUT: dictionary.\"\"\"\n",
    "    \n",
    "    global ENG_FREQ_UNSORT, BIGRAMS\n",
    "    options = len(BIGRAMS) - len(alphabet)  \n",
    "    # -len(alph) to allow room for each letter to have minimum 1 allocation\n",
    "    \n",
    "    no_grams = {}\n",
    "    for let in alphabet:\n",
    "        no_grams[let] = math.floor(options * ENG_FREQ_UNSORT[let]) + 1   # +1 to ensure at least 1 allocation\n",
    "        \n",
    "    return no_grams\n",
    "\n",
    "# To randomly allocate specific bigrams to letters\n",
    "def random_allocation_v2(no_grams, alphabet):\n",
    "    \"\"\"Takes dictionary (from function 'number_grams'), all possible 2-grams\n",
    "    and the alphabet to be encoded and returns a dictionary corresponding to\n",
    "    strings that contain the set of encoding 2-grams for each letter of the alphabet.\n",
    "    OUTPUT: dictionary.\"\"\"\n",
    "    \n",
    "    global BIGRAMS\n",
    "    \n",
    "    options = len(BIGRAMS)   #all possible 2-grams (minus repeats such as 'AA', 'BB,...')\n",
    "    gram_dict = {}\n",
    "    used = \"\"   #ensure no 2-gram used twice\n",
    "    \n",
    "    for let in alphabet:\n",
    "        grams = \"\"\n",
    "        \n",
    "        while len(grams) < no_grams[let]*3:   #fill the string of 2-grams until it has the right amount \n",
    "            index = random.randrange(options)\n",
    "            \n",
    "            if (BIGRAMS[index] + \" \") not in used:\n",
    "                grams += BIGRAMS[index] + \" \"\n",
    "                used += BIGRAMS[index] + \" \"\n",
    "        \n",
    "        gram_dict[let] = grams\n",
    "        \n",
    "    return gram_dict"
   ]
  },
  {
   "cell_type": "markdown",
   "id": "e9cc90fe-2833-4c0d-aea5-6d5d069d2413",
   "metadata": {},
   "source": [
    "The only change to the vigenere_encipher/decipher functions is in the key generation. Now the only possible characters for the key are alphabetic letters. This is a patch as, after some testing, we noticed that the hybrid system V3 would fail only some of the time, meaning the reason must be to do with some element of randomness in our functions. Therefore, we deduced that the problem lay in the key generation of the vigenere_encipher function. After restricting the key to alphabetic characters only, the hybrid system V3 described below seems to be working at every attempt.  \n",
    "\n",
    "We suspect the \"\\\\\" character is what causes problems in the key due to its properties in python strings."
   ]
  },
  {
   "cell_type": "code",
   "execution_count": 47,
   "id": "f7f14175",
   "metadata": {},
   "outputs": [],
   "source": [
    "def vigenere_encipher_v2(plaintext, alphabet, key_length = 5):\n",
    "    \"\"\"Vigenere enciphers a message string.\n",
    "    OUTPUT: ('enciphered message', 'key').\"\"\"\n",
    "    \n",
    "    key_alph = string.ascii_letters\n",
    "    key = ''.join(random.choice(key_alph) for i in range(key_length))   \n",
    "    #generate the random key using characters from 'ascii_letters'\n",
    "    \n",
    "    ciphertext = \"\"   #create empty string\n",
    "    for i in range(len(plaintext)):\n",
    "        shift = alphabet.find(key[i % len(key)])   #find Caesar shift using key index\n",
    "        ciphertext += caesar_shift(plaintext[i], shift, alphabet)   #Caesar shift the letter \n",
    "    \n",
    "    return ciphertext, key\n",
    "\n",
    "\n",
    "def vigenere_decipher_v2(ciphertext, key, alphabet):\n",
    "    \"\"\"Vigenere deciphers a message string.\n",
    "    OUTPUT: 'deciphered message'.\"\"\"\n",
    "    \n",
    "    plaintext = \"\"   #create empty string\n",
    "    for i in range(len(ciphertext)):\n",
    "        shift = alphabet.find(key[i % len(key)])   #find Caesar shift\n",
    "        plaintext += caesar_invert_shift(ciphertext[i], shift, alphabet)   #inverse the Caesar shift\n",
    "        \n",
    "    return plaintext"
   ]
  },
  {
   "cell_type": "markdown",
   "id": "67944bc9",
   "metadata": {},
   "source": [
    "### 7.3 - Hybrid system V3 <a id='7.3'></a>"
   ]
  },
  {
   "cell_type": "markdown",
   "id": "8e8235f1",
   "metadata": {},
   "source": [
    "Now, implementing the updated functions above into the hybrid system, we have version 3 which encodes any text, Vigenere enciphers it and RSA encrypts the key. "
   ]
  },
  {
   "cell_type": "code",
   "execution_count": 48,
   "id": "7da6de90",
   "metadata": {},
   "outputs": [],
   "source": [
    "def hybrid_send_v3(plaintext, recipient_public, alphabet, key_length = 5):\n",
    "    \"\"\"Takes plaintext and encodes it with 2-gram mapping and then RSA and hybrid\n",
    "    encrypts the message using the core 4 algorithm.\n",
    "    OUTPUT: ('vig message', 'RSA encrypted vig keys -- encoding info').\"\"\"\n",
    "    \n",
    "    global BIGRAMS\n",
    "    \n",
    "    no_grams = number_grams_v2(alphabet)   #create dict for number of bigrams per letter\n",
    "    gram_dict = random_allocation_v2(no_grams, alphabet)   #create dictionaries for encoding\n",
    "    plaintext = encoding(plaintext, no_grams, gram_dict, alphabet)   #do the encoding\n",
    "    info = encoding_info(gram_dict, alphabet, divide = \"-\")   #encoding information\n",
    "    \n",
    "    vig_message, vig_key = vigenere_encipher_v2(plaintext, alphabet, key_length)   \n",
    "    #encipher message and generate vig key\n",
    "    vig_key += \"--\" + info   #add encoding info to vig key\n",
    "    \n",
    "    no_slices = (len(vig_key)//60) + 1  #number of slices\n",
    "    keys = []\n",
    "    for i in range(no_slices):\n",
    "        keys.append(vig_key[i*60:(i+1)*60])   #take out slices of length 60\n",
    "    \n",
    "    for i in range(len(keys)):\n",
    "        keys[i] = c1.convert_to_integer(keys[i])   #convert each slice to integer form\n",
    "        keys[i] = pow(keys[i], recipient_public[1], recipient_public[0])   #RSA encrypt each slice \n",
    "        \n",
    "    keys = tuple(keys)   #convert to tuple\n",
    "    \n",
    "    return vig_message, keys\n",
    "\n",
    "\n",
    "def hybrid_recieve_v3(ciphertext, keys_tuple, my_private, my_public, alphabet):\n",
    "    \"\"\"Takes ciphertext, keys tuple and encoding info and RSA keys and deciphers\n",
    "    according to core 4 method of hybrid encryption and 2-gram encoding.\n",
    "    OUTPUT: 'plaintext'.\"\"\"\n",
    "    \n",
    "    keys = list(keys_tuple)\n",
    "    vig_key = \"\"\n",
    "    for i in range(len(keys)):\n",
    "        keys[i] = pow(keys[i], my_private, my_public[0])   #convert to integer\n",
    "        keys[i] = c1.convert_to_text(keys[i])   #convert to vig key\n",
    "        vig_key += keys[i]   #concatenate key back together\n",
    "        \n",
    "    keys = vig_key\n",
    "    index = keys.find(\"-\")\n",
    "    vig = keys[:index]\n",
    "    \n",
    "    enc = keys[index+2:]   #find encoding info\n",
    "    gram_dict = {}   #create dictionary for encoding\n",
    "    for let in alphabet:\n",
    "        index = enc.find(\"-\")   #find info for each letter\n",
    "        gram_dict[let] = enc[:index]   #input into dictionary\n",
    "        enc = enc[index+1:]   #update encoding info string\n",
    "    \n",
    "    plaintext = vigenere_decipher_v2(ciphertext, vig, alphabet)\n",
    "    decoded_text = decoding(plaintext, gram_dict, alphabet)\n",
    "    \n",
    "    return decoded_text"
   ]
  },
  {
   "cell_type": "markdown",
   "id": "6eeb0904",
   "metadata": {},
   "source": [
    "We also update the ENG_FREQ_UNSORT dictionary to include frequencies of the new characters/white spaces."
   ]
  },
  {
   "cell_type": "code",
   "execution_count": 49,
   "id": "3580eada",
   "metadata": {},
   "outputs": [],
   "source": [
    "#recall the list of text url's from before\n",
    "\n",
    "big_text = \"\"\n",
    "for i in range(len(list_texts)):\n",
    "    big_text += hybrid.extract_text(hybrid.url_to_text_utf8(list_texts[i]), printable)\n",
    "    #extract the content and append all texts together\n",
    "    \n",
    "ENG_FREQ_UNSORT = character_freq(big_text, printable, sort = False)"
   ]
  },
  {
   "cell_type": "code",
   "execution_count": 50,
   "id": "0c6bb57e",
   "metadata": {},
   "outputs": [
    {
     "name": "stdout",
     "output_type": "stream",
     "text": [
      "\n",
      "The plaintext is:\n",
      " Emma Woodhouse, handsome, clever, and rich, with a comfortable home\n",
      "and happy disposition, seemed to unite some of the best blessings of\n",
      "existence; and had lived nearly twenty-one years in the world with very\n",
      "little to distress or vex her.\n",
      "\n",
      "She was the youngest of the two daughters of a most affectionate,\n",
      "indulgent father; and had, in consequence of her sister's marriage, been\n",
      "mistress of his hous ...\n",
      "\n",
      "\n",
      "The ciphertext is:\n",
      "PL\t_(^p]\\.Q))_{+x_\\[+(P.:[(L.d.&:'\t#Z!-\f",
      "((\\|~!A~2,\\&|(_<RP\\fT-~\t0Py](^01KKP\\~Zu~@\n",
      "@#(%~)<*){;NzQ= ...]^;D.*1OT)?>^G\u000b",
      "\n",
      "\n",
      "\n",
      "The deciphered text is:\n",
      " Emma Woodhouse, handsome, clever, and rich, with a comfortable home\n",
      "and happy disposition, seemed to unite some of the best blessings of\n",
      "existence; and had lived nearly twenty-one years in the world with very\n",
      "little to distress or vex her.\n",
      "\n",
      "She was the youngest of the two daughters of a most affectionate,\n",
      "indulgent father; and had, in consequence of her sister's marriage, been\n",
      "mistress of his hous ...\n"
     ]
    }
   ],
   "source": [
    "# A test using the book Emma \n",
    "for _ in range(1):\n",
    "    emma_url = \"https://raw.githubusercontent.com/cmh42/hc/main/message_emma.txt\"\n",
    "    text = hybrid.extract_text(hybrid.url_to_text_utf8(emma_url), printable)[:1000]\n",
    "        #recall the emma book from earlier\n",
    "    recipient_public, my_private, fact = c1.RSA_key_generator1(512)\n",
    "        #generate RSA keys\n",
    "\n",
    "    print(\"\\nThe plaintext is:\\n\", text[:400], \"...\")\n",
    "\n",
    "    ciphertext, key = hybrid_send_v3(text, recipient_public, printable, 5) \n",
    "    print(\"\\n\\nThe ciphertext is:\\n\", ciphertext[:200], \"...\")\n",
    "\n",
    "    deciphered = hybrid_recieve_v3(ciphertext, key, my_private, recipient_public, printable)\n",
    "    print(\"\\n\\nThe deciphered text is:\\n\", deciphered[:400], \"...\")\n",
    "\n",
    "    assert text == deciphered"
   ]
  },
  {
   "cell_type": "markdown",
   "id": "8b571b17",
   "metadata": {},
   "source": [
    "As you can see, all the white space formatting is preserved from the original text. "
   ]
  },
  {
   "cell_type": "markdown",
   "id": "afda2c19",
   "metadata": {},
   "source": [
    "##### Testing"
   ]
  },
  {
   "cell_type": "code",
   "execution_count": 51,
   "id": "9583e991",
   "metadata": {},
   "outputs": [
    {
     "name": "stdout",
     "output_type": "stream",
     "text": [
      "Long text testing passed!\n"
     ]
    }
   ],
   "source": [
    "# Long message testing... \n",
    "for text in list_texts:\n",
    "    \n",
    "    recipient_public, my_private, fact = c1.RSA_key_generator1(512)   #generate new RSA keys for each text\n",
    "    extracted_text = hybrid.extract_text(hybrid.url_to_text_utf8(text), printable)   #extract text\n",
    "    #print(\"\\n\\n\", extracted_text[:200])\n",
    "    key_length = random.randint(1, 100)   #random key length\n",
    "    \n",
    "    ciphertext, key = hybrid_send_v3(extracted_text, recipient_public, printable, key_length)   #enciphered \n",
    "    deciphered = hybrid_recieve_v3(ciphertext, key, my_private, recipient_public, printable)   #deciphered\n",
    "    #print(\"\\n\\n\", ciphertext[:200],\"\\n\\n\", deciphered[:200])\n",
    "    \n",
    "    assert extracted_text == deciphered\n",
    "    #This takes a little bit of time...\n",
    "    \n",
    "print(\"Long text testing passed!\")"
   ]
  },
  {
   "cell_type": "markdown",
   "id": "a9db9a7c",
   "metadata": {
    "slideshow": {
     "slide_type": "slide"
    }
   },
   "source": [
    "In this section, we adapted our hybrid system to deal with all printable characters. Because of the way we had written out functions, this was relatively easy to do with just a few small changes needed to get it working. "
   ]
  },
  {
   "cell_type": "markdown",
   "id": "25a053d9",
   "metadata": {},
   "source": [
    "## 8 - Conclusion<a id='8'></a>"
   ]
  },
  {
   "cell_type": "markdown",
   "id": "54844525",
   "metadata": {},
   "source": [
    "Throughout this project we have met and overcame several problems with making a secure system of sending and recieving messages and texts. \n",
    "\n",
    "Firstly, we used the Vigenere cipher and RSA encryption to secure the key. The main problem with RSA encryption is the data you encrypt is restricted by the size of $N$ (the product of the primes $p, q$). As we saw from our analysis in section 3, the larger the primes you use to construct $N$, the harder it becomes to factorise it (this happens as an exponential relationship). We overcame this problem by slicing the data into multiple strings of acceptable length and encrypting them individually. In our examples we used 512-bit primes $p, q$. In reality it wouldn't take *too* much computing power to factorise $N$, and so larger prime numbers would be needed for secure use. However, as a proof of concept, this worked fine. \n",
    "\n",
    "This was as far as our version 1 system went in terms of secure encryption, and it left some holes to patch - primarily, the use of letter frequency analysis (Kasiski). By writing and testing functions that implement Kasiski style analysis, we learned what the limitations of this approach were and how exactly it worked. It turned out this type of attack relies on the characteristic frequencies of letters in the English language and plaintext. Therefore, to patch this problem we encoded the plaintext before encryption. This masked the frequency of letters and gave the illusion of each character being equally common in the ciphertext. This made it impossible to compare frequencies to the English language and therefore very difficult to decipher the message without the key.\n",
    "\n",
    "In the final version of the hybrid system we tidied everything up by allowing it to take inputs of any printable character, therefore, preserving the formatting of the text. Thankfully this was a relatively straightforward fix, as throughout the project we had been using 'alphabet' as an input into our functions already. All that was required was some small adjustments to the encoding functions to allow for the right number of bigrams to be assigned to each printable character and one restriction on the generation of the random Vigenere key. The problem with the key seemed to be that the \"\\\\\" symbol interferes with python strings. Nevertheless, it was an easy fix as we simply restricted the choice of characters for the random key to just alphabetic letters. This in theory has some effect on the security of the cipher, but for this example it won't be dramatic."
   ]
  },
  {
   "cell_type": "markdown",
   "id": "b43678e6",
   "metadata": {},
   "source": [
    "## 9 - Glossary <a id='9'></a>\n",
    "\n",
    "- Bigram - an ordered pair of two characters.\n",
    "- Cipher - an algorithm for encripting and decripting data.\n",
    "- Ciphertext - the message after some sort of encryption has been applied. \n",
    "- Crack - decripting a ciphertext without entire knowledge of the cipher or cipher key.\n",
    "- Deciphered text - the text after decryption, not always successfully the same as the plaintext.\n",
    "- Encoding - putting information into a particular format for ease of use or storage.\n",
    "- Hybrid encryption - a system which uses multiple forms of encryption on a plaintext.\n",
    "- Plaintext - a readable message or piece of data before any encryption has been applied.\n",
    "- White space - new line, tab, indents; any formatting characters that aren't a symbol."
   ]
  },
  {
   "cell_type": "markdown",
   "id": "665233aa",
   "metadata": {},
   "source": [
    "## 10 - Bibliography<a id='10'></a>"
   ]
  },
  {
   "cell_type": "markdown",
   "id": "e6687578",
   "metadata": {},
   "source": [
    "- [1] Geeksforgeeks (2023), Caesar Cipher in Cryptography. Available at: https://www.geeksforgeeks.org/caesar-cipher-in-cryptography/ (Accessed: 20/04/2023)\n",
    "\n",
    "- [2] Geeksforgeeks (2023), Vigenere Cipher. Available at: https://www.geeksforgeeks.org/vigenere-cipher/ (Accessed: 25/04/2023)\n",
    "\n",
    "- [3] Finio, B. (2023), Crack the Code: Breaking a Caesar Cipher. Available at: https://www.sciencebuddies.org/science-fair-projects/project-ideas/Cyber_p005/cybersecurity/crack-caesar-cipher (Accessed: 27/04/2023)\n",
    "\n",
    "- [4] Lake, J. (2021), What is RSA encryption and how does it work?. Available at: https://www.comparitech.com/blog/information-security/rsa-encryption/ (Accessed: 29/04/2023)\n",
    "\n",
    "- [5] Upsala Universitet (2023), The Vigenere Cipher -- A Polyalphabetic Cipher. Available at: https://www.it.uu.se/edu/course/homepage/security/vt09/labs/vigenere.html (Accessed: 03/05/2023)"
   ]
  }
 ],
 "metadata": {
  "kernelspec": {
   "display_name": "Python 3 (ipykernel)",
   "language": "python",
   "name": "python3"
  },
  "language_info": {
   "codemirror_mode": {
    "name": "ipython",
    "version": 3
   },
   "file_extension": ".py",
   "mimetype": "text/x-python",
   "name": "python",
   "nbconvert_exporter": "python",
   "pygments_lexer": "ipython3",
   "version": "3.9.12"
  }
 },
 "nbformat": 4,
 "nbformat_minor": 5
}
